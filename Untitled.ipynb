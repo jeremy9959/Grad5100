{
 "cells": [
  {
   "cell_type": "code",
   "execution_count": 2,
   "id": "67386eeb-fb9a-440e-be23-1cd8545e3a4d",
   "metadata": {},
   "outputs": [],
   "source": [
    "first_name =\"Jeremy\"\n",
    "last_name = \"Teitelbaum\"\n",
    "year = 2023\n",
    "states = [\"A\",\"B\"]"
   ]
  },
  {
   "cell_type": "code",
   "execution_count": 4,
   "id": "2c698cf2-d58b-4b24-9134-dba6b0802df1",
   "metadata": {},
   "outputs": [
    {
     "name": "stdout",
     "output_type": "stream",
     "text": [
      "rem\n"
     ]
    }
   ],
   "source": [
    "first_name_345 = first_name[2:5] # fill in the [] to extract the third, fourth, and fifth letters of your first name (note this could be an empty string, or shorter than three letters)\n",
    "print(first_name_345)"
   ]
  },
  {
   "cell_type": "code",
   "execution_count": null,
   "id": "314250f3-417b-4e3a-9e0c-99437d366ab0",
   "metadata": {},
   "outputs": [],
   "source": []
  }
 ],
 "metadata": {
  "kernelspec": {
   "display_name": "Python 3 (ipykernel)",
   "language": "python",
   "name": "python3"
  },
  "language_info": {
   "codemirror_mode": {
    "name": "ipython",
    "version": 3
   },
   "file_extension": ".py",
   "mimetype": "text/x-python",
   "name": "python",
   "nbconvert_exporter": "python",
   "pygments_lexer": "ipython3",
   "version": "3.9.16"
  }
 },
 "nbformat": 4,
 "nbformat_minor": 5
}
