{
 "cells": [
  {
   "attachments": {},
   "cell_type": "markdown",
   "metadata": {},
   "source": [
    "## Organizing and analyzing data in a pandas dataframe"
   ]
  },
  {
   "attachments": {},
   "cell_type": "markdown",
   "metadata": {},
   "source": [
    "This is an initial exercise to familiarize you with setting up a pandas dataframe to permit further data analysis in Python.\n",
    "Please follow these steps:\n",
    "\n",
    "### Step 1\n",
    "\n",
    "- Import the pandas library and other libraries you may need for this project.  You may need to gradually add more\n",
    "import statements as more things occur to you.\n",
    "- Download the \"test\" and \"train\" data from the [kaggle \"titanic\" problem website](https://www.kaggle.com/competitions/titanic/).\n",
    "- Import the training set (the \"train.csv\" file) into a pandas dataframe."
   ]
  },
  {
   "cell_type": "code",
   "execution_count": null,
   "metadata": {},
   "outputs": [],
   "source": [
    "## Python code here"
   ]
  },
  {
   "attachments": {},
   "cell_type": "markdown",
   "metadata": {},
   "source": [
    "Notice that, for each passenger, the data includes their class of travel, some demographic information, and whether or not they survived.  Using the pandas grouping and summarizing commands, find:\n",
    "\n",
    "- the average age of all passengers\n",
    "- the average ages of the male and female passengers\n",
    "- The percentage of survivors among male and among female passengers.\n"
   ]
  },
  {
   "cell_type": "code",
   "execution_count": 1,
   "metadata": {},
   "outputs": [],
   "source": [
    "## Python code here"
   ]
  },
  {
   "attachments": {},
   "cell_type": "markdown",
   "metadata": {},
   "source": [
    "Build a two x two contingency table comparing gender vs survival.  What are the conditional probabilities:\n",
    "\n",
    "- P(survived | female)\n",
    "- P(survived | male) \n",
    "\n",
    "*Discussion*: How can you decide if this difference is statistically significant?"
   ]
  },
  {
   "cell_type": "code",
   "execution_count": null,
   "metadata": {},
   "outputs": [],
   "source": [
    "## Python calculations here"
   ]
  },
  {
   "attachments": {},
   "cell_type": "markdown",
   "metadata": {},
   "source": [
    "Group the data into age ranges that seem appropriate to you and compute the fraction of survivors in each age group.\n",
    "Does this lead to any hypotheses?"
   ]
  },
  {
   "cell_type": "code",
   "execution_count": 2,
   "metadata": {},
   "outputs": [],
   "source": [
    "## Python calculations here"
   ]
  },
  {
   "attachments": {},
   "cell_type": "markdown",
   "metadata": {},
   "source": [
    "### Explore the data\n",
    "\n",
    "Try some other ways of slicing this data and discuss with your classmates any interesting hypotheses that you develop."
   ]
  },
  {
   "cell_type": "markdown",
   "metadata": {},
   "source": []
  }
 ],
 "metadata": {
  "kernelspec": {
   "display_name": "base",
   "language": "python",
   "name": "python3"
  },
  "language_info": {
   "codemirror_mode": {
    "name": "ipython",
    "version": 3
   },
   "file_extension": ".py",
   "mimetype": "text/x-python",
   "name": "python",
   "nbconvert_exporter": "python",
   "pygments_lexer": "ipython3",
   "version": "3.9.15"
  },
  "orig_nbformat": 4
 },
 "nbformat": 4,
 "nbformat_minor": 2
}
