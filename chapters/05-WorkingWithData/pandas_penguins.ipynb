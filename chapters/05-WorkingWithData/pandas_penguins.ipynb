{
  "cells": [
    {
      "cell_type": "raw",
      "metadata": {},
      "source": [
        "---\n",
        "title: Working with data in python/pandas\n",
        "subtitle: Fundamentals of Data Science\n",
        "author: Jeremy Teitelbaum\n",
        "---"
      ],
      "id": "307d2aea"
    },
    {
      "cell_type": "markdown",
      "metadata": {},
      "source": [
        "## Loading the key libraries"
      ],
      "id": "a450582f"
    },
    {
      "cell_type": "code",
      "metadata": {},
      "source": [
        "import sys\n",
        "import pandas as pd\n",
        "import numpy as np\n",
        "\n",
        "\n",
        "print(f\"pandas version {pd.__version__}\")\n",
        "print(f\"numpy version {np.__version__}\")\n",
        "print(\"\\n\".join(f\"Python {sys.version}\".split(\"|\")))"
      ],
      "id": "9f4d482e",
      "execution_count": null,
      "outputs": []
    },
    {
      "cell_type": "markdown",
      "metadata": {},
      "source": [
        "## A comment on file formats\n",
        "\n",
        "The most common simple format for tabular data is comma separated or tab separated (`csv` or `tsv`).\n",
        "\n",
        "Newer formats such as `arrow` and `parquet` are more efficient in storage and faster to load.\n",
        "\n",
        "Pandas 2.0 can handle these newer formats.\n",
        "\n",
        "\n",
        "## Reading a dataframe\n"
      ],
      "id": "917ed097"
    },
    {
      "cell_type": "code",
      "metadata": {},
      "source": [
        "# read from a csv file\n",
        "penguins = pd.read_csv(\"data/penguins-raw.csv\")\n",
        "# read from a url\n",
        "# url = \"https://raw.githubusercontent.com/mcnakhaee/palmerpenguins/master/palmerpenguins/data/penguins-raw.csv\"\n",
        "# penguins = pd.read_csv(url)\n",
        "# read from an excel file\n",
        "# penguins = pd.read_excel('file.xlsx')\n",
        "rows, cols = penguins.shape\n",
        "print(f\"Rows: {rows}, Columns: {cols}\")\n",
        "print(f\"Columns:\", \"\\n\".join(penguins.columns))"
      ],
      "id": "5ad19b37",
      "execution_count": null,
      "outputs": []
    },
    {
      "cell_type": "markdown",
      "metadata": {},
      "source": [
        "## Series \n",
        "\n",
        "Each column of a dataframe is a series accessed by name.\n"
      ],
      "id": "b9ef1e61"
    },
    {
      "cell_type": "code",
      "metadata": {},
      "source": [
        "penguins[\"Culmen Length (mm)\"]"
      ],
      "id": "8f2db2b5",
      "execution_count": null,
      "outputs": []
    },
    {
      "cell_type": "markdown",
      "metadata": {},
      "source": [
        "Note the last row:\n",
        "- Name\n",
        "- Length\n",
        "- dtype\n",
        "\n",
        "Types are \"inferred\" by the read_csv function.\n",
        "\n",
        "## Another example\n"
      ],
      "id": "694ad15c"
    },
    {
      "cell_type": "code",
      "metadata": {},
      "source": [
        "penguins['Date Egg']"
      ],
      "id": "cd16e62f",
      "execution_count": null,
      "outputs": []
    },
    {
      "cell_type": "markdown",
      "metadata": {},
      "source": [
        "Here the type is \"object\" which is the generic python object.  But these are clearly supposed to be dates. We'll fix that later.\n",
        "\n",
        "## Alternative syntax\n"
      ],
      "id": "414bce37"
    },
    {
      "cell_type": "code",
      "metadata": {},
      "source": [
        "# if the column name is simple, you can use a simpler syntax.\n",
        "penguins.Sex"
      ],
      "id": "8e83984b",
      "execution_count": null,
      "outputs": []
    },
    {
      "cell_type": "markdown",
      "metadata": {},
      "source": [
        "## Value Counts\n",
        "\n",
        "The `value_counts` method returns a summary series.\n"
      ],
      "id": "1a87d5ed"
    },
    {
      "cell_type": "code",
      "metadata": {},
      "source": [
        "penguins['Island'].value_counts()"
      ],
      "id": "6aa99281",
      "execution_count": null,
      "outputs": []
    },
    {
      "cell_type": "code",
      "metadata": {},
      "source": [
        "penguins['Species'].value_counts()"
      ],
      "id": "975c00ec",
      "execution_count": null,
      "outputs": []
    },
    {
      "cell_type": "markdown",
      "metadata": {},
      "source": [
        "## Selecting a subset of columns\n"
      ],
      "id": "d5329ef6"
    },
    {
      "cell_type": "code",
      "metadata": {},
      "source": [
        "simpler = penguins[['Species', 'Body Mass (g)', 'Flipper Length (mm)']]\n",
        "simpler.head()"
      ],
      "id": "615de127",
      "execution_count": null,
      "outputs": []
    },
    {
      "cell_type": "markdown",
      "metadata": {},
      "source": [
        "## Index\n",
        "\n",
        "A dataframe has an index, which can be just the numbers from 0 to N as in this case.\n"
      ],
      "id": "a3823101"
    },
    {
      "cell_type": "code",
      "metadata": {},
      "source": [
        "penguins.index"
      ],
      "id": "8a9e99c2",
      "execution_count": null,
      "outputs": []
    },
    {
      "cell_type": "markdown",
      "metadata": {},
      "source": [
        "## Columns and Rows\n",
        "\n",
        "`loc` allows you to access individual elements.\n"
      ],
      "id": "73454df0"
    },
    {
      "cell_type": "code",
      "metadata": {},
      "source": [
        "# The 23rd row\n",
        "penguins.loc[23,:]"
      ],
      "id": "e73dbc0b",
      "execution_count": null,
      "outputs": []
    },
    {
      "cell_type": "code",
      "metadata": {},
      "source": [
        "penguins.loc[23,'Culmen Length (mm)']"
      ],
      "id": "9d06fbe4",
      "execution_count": null,
      "outputs": []
    },
    {
      "cell_type": "code",
      "metadata": {},
      "source": [
        "penguins.loc[23:28,['Sex','Date Egg']]"
      ],
      "id": "816e4e9c",
      "execution_count": null,
      "outputs": []
    },
    {
      "cell_type": "markdown",
      "metadata": {},
      "source": [
        "## Filtering\n",
        "\n",
        "Filtering is done by using a boolean series as an index.  \n"
      ],
      "id": "843e94a1"
    },
    {
      "cell_type": "code",
      "metadata": {},
      "source": [
        "penguins['Sex']=='FEMALE'"
      ],
      "id": "e2ea5859",
      "execution_count": null,
      "outputs": []
    },
    {
      "cell_type": "code",
      "metadata": {},
      "source": [
        "females = penguins[penguins['Sex']=='FEMALE']\n",
        "females.head()"
      ],
      "id": "62f12204",
      "execution_count": null,
      "outputs": []
    },
    {
      "cell_type": "markdown",
      "metadata": {},
      "source": [
        "An alternative syntax is to use query.  The quoting rules here can be tricky.\n",
        "The query is a string, and column names are set off by backticks.  Using\n",
        "two different types of quotes allows the query to include a string.\n"
      ],
      "id": "fee33eb3"
    },
    {
      "cell_type": "code",
      "metadata": {},
      "source": [
        "females = penguins.query(\"`Sex`=='FEMALE'\")\n",
        "females.head()"
      ],
      "id": "6fc9af63",
      "execution_count": null,
      "outputs": []
    },
    {
      "cell_type": "markdown",
      "metadata": {},
      "source": [
        "## Fancier filtering\n"
      ],
      "id": "5daac370"
    },
    {
      "cell_type": "code",
      "metadata": {},
      "source": [
        "penguins[penguins[\"Flipper Length (mm)\"]>penguins[\"Body Mass (g)\"]/20]"
      ],
      "id": "257dc793",
      "execution_count": null,
      "outputs": []
    },
    {
      "cell_type": "markdown",
      "metadata": {},
      "source": [
        "## Missing values\n",
        "\n",
        "Dealing with missing values is a central problem in data science.  One way to identify how many misssing values are out there is as follows:\n"
      ],
      "id": "89a8495b"
    },
    {
      "cell_type": "code",
      "metadata": {},
      "source": [
        "## Uses the fact that logical True counts as one, False as zero\n",
        "## sum() method sums by columns\n",
        "penguins.isna().sum()"
      ],
      "id": "e01b88c2",
      "execution_count": null,
      "outputs": []
    },
    {
      "cell_type": "markdown",
      "metadata": {},
      "source": [
        "Nearly all of the comments are empty.  What are they?\n"
      ],
      "id": "c257313a"
    },
    {
      "cell_type": "code",
      "metadata": {},
      "source": [
        "comments = penguins['Comments'].value_counts()\n",
        "comments"
      ],
      "id": "a37b88ae",
      "execution_count": null,
      "outputs": []
    },
    {
      "cell_type": "markdown",
      "metadata": {},
      "source": [
        "Let's save the comments separately and look at the rest.\n"
      ],
      "id": "035e5ea7"
    },
    {
      "cell_type": "code",
      "metadata": {},
      "source": [
        "# drop normally drops rows, but with axis=1 it drops columns\n",
        "penguins = penguins.drop('Comments',axis=1)"
      ],
      "id": "7fdeb110",
      "execution_count": null,
      "outputs": []
    },
    {
      "cell_type": "markdown",
      "metadata": {},
      "source": [
        "Various options:\n",
        "- drop rows with missing values\n",
        "- impute the missing values somehow\n",
        "\n",
        "## Drop rows with missing values\n"
      ],
      "id": "0c8ca483"
    },
    {
      "cell_type": "code",
      "metadata": {},
      "source": [
        "# This makes a boolean where a row is True provided at least one of its entries are NA\n",
        "na_rows = (penguins.isna().any(axis=1))\n",
        "print(f\"{na_rows.sum()} rows have NA somewhere outside of comments\")"
      ],
      "id": "6f7f2197",
      "execution_count": null,
      "outputs": []
    },
    {
      "cell_type": "code",
      "metadata": {},
      "source": [
        "# here we keep rows only if no NA's.  Can also use notna().\n",
        "penguins_nona = penguins.loc[~na_rows,:]"
      ],
      "id": "2f45e562",
      "execution_count": null,
      "outputs": []
    },
    {
      "cell_type": "markdown",
      "metadata": {},
      "source": [
        "## Imputation\n",
        "\n",
        "We saw above that culmen length has 2 missing values. We can use `fillna` to\n",
        "replace the missing values with something (like the mean or median or zero).\n"
      ],
      "id": "5a4d090b"
    },
    {
      "cell_type": "code",
      "metadata": {},
      "source": [
        "# using equality w/o copy creates another reference.\n",
        "penguins_imputed = penguins.copy()\n",
        "culmen_mean = penguins_imputed['Culmen Length (mm)'].mean() # how does this handle NA values?\n",
        "print(f\"Culmen length mean is {culmen_mean}\")\n",
        "penguins_imputed['Culmen Length (mm)'] = penguins_imputed['Culmen Length (mm)'].fillna(culmen_mean)"
      ],
      "id": "33663b49",
      "execution_count": null,
      "outputs": []
    },
    {
      "cell_type": "markdown",
      "metadata": {},
      "source": [
        "There are many other imputation methods.  For example, if the data is ordered, you can fill \n",
        "missing data with linear interpolation. (See the `interpolate` method).\n",
        "\n",
        "## Data types\n",
        "\n",
        "As we saw above, the types of the columns are inferred when the data is read.  But it's not always correct.  For example, the \"Date Egg\" column is supposed to be a date but it's shown as a generic python object. \n",
        "\n",
        "Using the correct type can greatly improve performance as generic Python arguments\n",
        "are inefficient.\n",
        "\n",
        "In pandas 1.0 strings are always treated as objects but in pandas 2.0 there is a `StringDtype`.\n",
        "\n",
        "The most common types are:\n",
        "- object\n",
        "- float64\n",
        "- datetime (datetime64[ns])\n",
        "- int64\n",
        "- bool \n",
        "\n",
        "One may also find categorical types. \n"
      ],
      "id": "1780e772"
    },
    {
      "cell_type": "code",
      "metadata": {},
      "source": [
        "penguins.dtypes"
      ],
      "id": "f35ecf1b",
      "execution_count": null,
      "outputs": []
    },
    {
      "cell_type": "markdown",
      "metadata": {},
      "source": [
        "## Setting datatypes\n",
        "\n",
        "Here's an example where we manually make sex a categorical type.\n"
      ],
      "id": "32dab1f4"
    },
    {
      "cell_type": "code",
      "metadata": {},
      "source": [
        "penguins = penguins.astype({'Sex':'category'})\n",
        "penguins['Sex']"
      ],
      "id": "e8dca8c4",
      "execution_count": null,
      "outputs": []
    },
    {
      "cell_type": "markdown",
      "metadata": {},
      "source": [
        "One can also pass a dictionary setting the types of columns as an argument when\n",
        "you read them from the csv file.\n",
        "\n",
        "## Creating new columns \n",
        "\n",
        "\n",
        "Simplifying the species name.\n"
      ],
      "id": "222248d5"
    },
    {
      "cell_type": "code",
      "metadata": {},
      "source": [
        "def first_word(x):\n",
        "    return x.split()[0]\n",
        "penguins['SimpleSpecies'] = penguins['Species'].map(first_word)"
      ],
      "id": "ad0dd33c",
      "execution_count": null,
      "outputs": []
    },
    {
      "cell_type": "markdown",
      "metadata": {},
      "source": [
        "Rewriting the body mass in kilograms.\n"
      ],
      "id": "e1fee021"
    },
    {
      "cell_type": "code",
      "metadata": {},
      "source": [
        "penguins['Body Mass (kg)'] = penguins['Body Mass (g)']/1000"
      ],
      "id": "3379cf1e",
      "execution_count": null,
      "outputs": []
    },
    {
      "cell_type": "markdown",
      "metadata": {},
      "source": [
        "## Sorting\n"
      ],
      "id": "d0d4c389"
    },
    {
      "cell_type": "code",
      "metadata": {},
      "source": [
        "penguins_small = penguins[['Species','Island','Body Mass (g)']]\n",
        "penguins_small.sort_values('Body Mass (g)')\n",
        "# ascending = False for descending order\n",
        "# na_position = 'first' or 'last' (default is 'last')\n",
        "# can also provide a key which is a function of prototype Series -> Series\n",
        "# inplace = True doesn't return a new dataframe, sorts the given one in place"
      ],
      "id": "cd54f6e6",
      "execution_count": null,
      "outputs": []
    },
    {
      "cell_type": "markdown",
      "metadata": {},
      "source": [
        "## Grouping\n",
        "\n",
        "Grouping is a powerful tool.  Let's first\n",
        "group our penguins by species.  The result is a \"grouped\" object which needs to pass through a summarize operation to\n",
        "be useful. \n"
      ],
      "id": "a898cc55"
    },
    {
      "cell_type": "code",
      "metadata": {},
      "source": [
        "penguins_by_species = penguins.groupby('Species')\n",
        "penguins_by_species"
      ],
      "id": "e9ba8615",
      "execution_count": null,
      "outputs": []
    },
    {
      "cell_type": "markdown",
      "metadata": {},
      "source": [
        "## Summarizing\n"
      ],
      "id": "b2966d88"
    },
    {
      "cell_type": "code",
      "metadata": {},
      "source": [
        "# describe computes basic descriptive statistics\n",
        "penguins_by_species['Body Mass (g)'].describe()"
      ],
      "id": "36e8565d",
      "execution_count": null,
      "outputs": []
    },
    {
      "cell_type": "code",
      "metadata": {},
      "source": [
        "# this fails because some columns aren't numeric\n",
        "penguins_by_species.mean(numeric_only=True)"
      ],
      "id": "2ddede38",
      "execution_count": null,
      "outputs": []
    },
    {
      "cell_type": "code",
      "metadata": {},
      "source": [
        "penguins_by_species.count()"
      ],
      "id": "84d93d2e",
      "execution_count": null,
      "outputs": []
    },
    {
      "cell_type": "markdown",
      "metadata": {},
      "source": [
        "## MultiIndex\n"
      ],
      "id": "9eade2bc"
    },
    {
      "cell_type": "code",
      "metadata": {},
      "source": [
        "penguins_by_sex_and_species = penguins.groupby(['Sex','Species'])\n",
        "penguins_by_sex_and_species['Body Mass (g)'].describe().round()"
      ],
      "id": "eb470cbb",
      "execution_count": null,
      "outputs": []
    },
    {
      "cell_type": "code",
      "metadata": {},
      "source": [
        "# pivot tables\n",
        "penguins_by_sex_and_species['Body Mass (g)'].mean().reset_index().pivot(index='Sex',columns='Species',values='Body Mass (g)')"
      ],
      "id": "1a559c74",
      "execution_count": null,
      "outputs": []
    },
    {
      "cell_type": "markdown",
      "metadata": {},
      "source": [
        "## Pandas plotting\n",
        "\n",
        "Some simple plots are available directly from pandas.\n"
      ],
      "id": "0abb09bf"
    },
    {
      "cell_type": "code",
      "metadata": {},
      "source": [
        "penguins[penguins['Species'].str.startswith(\"Adel\")].groupby(['Sex'])['Body Mass (g)'].hist(bins=30,legend=True)"
      ],
      "id": "f44ce14a",
      "execution_count": null,
      "outputs": []
    }
  ],
  "metadata": {
    "kernelspec": {
      "name": "pandas20",
      "language": "python",
      "display_name": "python3 with pandas 2.0"
    }
  },
  "nbformat": 4,
  "nbformat_minor": 5
}