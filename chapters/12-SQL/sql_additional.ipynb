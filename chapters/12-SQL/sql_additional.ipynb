{
  "cells": [
    {
      "cell_type": "raw",
      "metadata": {},
      "source": [
        "---\n",
        "title: Databases and SQL - A few more keywords\n",
        "author: Jeremy Teitelbaum\n",
        "subtitle: Fundamentals of Data Science\n",
        "format: html\n",
        "---"
      ],
      "id": "fbd92f0e"
    },
    {
      "cell_type": "code",
      "metadata": {},
      "source": [
        "# | echo: false\n",
        "# | output: false\n",
        "import sqlalchemy as sqla\n",
        "import pymysql\n",
        "import pandas as pd\n",
        "import os\n",
        "\n",
        "username = \"\"  # get this from the instructor\n",
        "password = \"\"  # get this from the instructor\n",
        "awsresource = \"\"  # get this from the instructor\n",
        "port = 3306\n",
        "\n",
        "homedir = os.path.expanduser(\"~\")\n",
        "with open(f\"{homedir}/.rds\") as f:\n",
        "    info = f.read()\n",
        "\n",
        "username, password, awsresource = info.strip().split(\",\")\n",
        "\n",
        "dbname = \"sakila\"\n",
        "dburi = f\"mysql+pymysql://{username}:{password}@{awsresource}:{port}/{dbname}\"\n",
        "engine = sqla.create_engine(dburi)\n",
        "\n",
        "\n",
        "def run_sql(sql, engine):\n",
        "    \"send sql to database given by engine and return the result\"\n",
        "    with engine.connect() as conn:\n",
        "        result = conn.execute(sqla.text(sql))\n",
        "    return result.all()\n",
        "\n",
        "\n",
        "def df_select(sql, engine):\n",
        "    \"send sql to database given by engine and return the result as a pandas dataframe\"\n",
        "    with engine.connect() as conn:\n",
        "        result = pd.read_sql(sqla.text(sql), con=conn)\n",
        "    print(f\"Retrieved {result.shape[0]} records\")\n",
        "    return result\n"
      ],
      "id": "7d29b8b7",
      "execution_count": null,
      "outputs": []
    },
    {
      "cell_type": "markdown",
      "metadata": {},
      "source": [
        "There are a few additional tricks to know about. \n",
        "\n",
        "1. the HAVING clause.  This allows you to put conditions on summary variables. \n",
        "For example, suppose we want to find all actors in the `sakila` database \n",
        "that appear in only one film. Remember that the relationship between films and actors\n",
        "is captured in the `film_actor` table. \n",
        "\n",
        "First, we can make a table showing, for each actor_id, how many films that actor appears in.\n"
      ],
      "id": "6497ce80"
    },
    {
      "cell_type": "code",
      "metadata": {},
      "source": [
        "query = \"\"\"\n",
        "select actor_id, count(film_id) as num  from film_actor group by film_id order by num limit 5\n",
        "\"\"\"\n",
        "run_sql(query, engine)"
      ],
      "id": "3361afb0",
      "execution_count": null,
      "outputs": []
    },
    {
      "cell_type": "markdown",
      "metadata": {},
      "source": [
        "To pick out the ones where `num` is one, we use the `having` clause. (Notice that we include a limit clause to reduce the amount of output).\n"
      ],
      "id": "651ee5d5"
    },
    {
      "cell_type": "code",
      "metadata": {},
      "source": [
        "query = \"\"\"\n",
        "select actor_id, count(film_id) as num  from film_actor group by film_id   having count(film_id)=1 limit 5\n",
        "\"\"\"\n",
        "run_sql(query, engine)"
      ],
      "id": "4e340ced",
      "execution_count": null,
      "outputs": []
    },
    {
      "cell_type": "markdown",
      "metadata": {},
      "source": [
        "**Exercise:** How can you fill out the actor names and film names from this information?\n",
        "\n",
        "\n",
        "2. The WITH clause. \n",
        "\n",
        "Suppose you want to find the actors that appear in the most films, it's a bit trickier\n",
        "One way is to first find the largest number of films, and then join with the table\n",
        "of film counts to pick out those actors having that number of films.\n",
        "\n",
        "The `with` clause allows you to nest queries like this.\n"
      ],
      "id": "5f627208"
    },
    {
      "cell_type": "code",
      "metadata": {},
      "source": [
        "query = \"\"\"\n",
        "with filmcounts as\n",
        "    (select actor_id, count(film_id) as num from film_actor group by film_id),\n",
        "    maxfilms as\n",
        "    (select max(num) as maxnum from filmcounts)\n",
        "    select actor_id, num from filmcounts join maxfilms on num=maxnum\n",
        "\"\"\"\n",
        "run_sql(query, engine)"
      ],
      "id": "ee5023a8",
      "execution_count": null,
      "outputs": []
    },
    {
      "cell_type": "markdown",
      "metadata": {},
      "source": [
        "**Excercise:** Extend this to include the actor names for these most prolific actors. .\n",
        "\n",
        "If you want the actors with the second largest number of films, you can try this.\n"
      ],
      "id": "2e7a61a0"
    },
    {
      "cell_type": "code",
      "metadata": {},
      "source": [
        "query = \"\"\"\n",
        "with filmcounts as\n",
        "    (select actor_id, count(film_id) as num from film_actor group by film_id),\n",
        "    maxfilms as\n",
        "    (select max(num) as maxnum from filmcounts where num < (select max(num) from filmcounts))\n",
        "    select actor_id, num from filmcounts join maxfilms on num=maxnum\n",
        "\"\"\"\n",
        "run_sql(query, engine)"
      ],
      "id": "6e244e0b",
      "execution_count": null,
      "outputs": []
    },
    {
      "cell_type": "markdown",
      "metadata": {},
      "source": [
        "If you want, say, the top  5, then you need other techniques."
      ],
      "id": "1f8f85f5"
    }
  ],
  "metadata": {
    "kernelspec": {
      "name": "base",
      "language": "python",
      "display_name": "Python Base"
    }
  },
  "nbformat": 4,
  "nbformat_minor": 5
}