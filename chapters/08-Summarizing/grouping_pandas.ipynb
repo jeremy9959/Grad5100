{
  "cells": [
    {
      "cell_type": "raw",
      "metadata": {},
      "source": [
        "---\n",
        "title: Grouping and Summarizing in Pandas\n",
        "format: html\n",
        "---"
      ]
    },
    {
      "cell_type": "markdown",
      "metadata": {},
      "source": [
        "## Two python techniques\n",
        "\n",
        "1. dictionaries\n",
        "2. lambda functions\n",
        "\n",
        "## Grouping and Summarizing"
      ]
    },
    {
      "cell_type": "code",
      "metadata": {},
      "source": [
        "import pandas as pd\n",
        "import  numpy as np"
      ],
      "execution_count": null,
      "outputs": []
    },
    {
      "cell_type": "markdown",
      "metadata": {},
      "source": [
        "Our first pass will be with our old friends the penguins."
      ]
    },
    {
      "cell_type": "code",
      "metadata": {},
      "source": [
        "penguins = pd.read_csv(\"data/penguins-raw.csv\")"
      ],
      "execution_count": null,
      "outputs": []
    },
    {
      "cell_type": "markdown",
      "metadata": {},
      "source": [
        "## Some basic data cleaning\n",
        "\n",
        "1.  Data types"
      ]
    },
    {
      "cell_type": "code",
      "metadata": {},
      "source": [
        "penguins.dtypes"
      ],
      "execution_count": null,
      "outputs": []
    },
    {
      "cell_type": "markdown",
      "metadata": {},
      "source": [
        "2. Focus on Species, Island, Sex, Culmen Length/Depth, Flipper Length, Body Mass."
      ]
    },
    {
      "cell_type": "code",
      "metadata": {},
      "source": [
        "focus = ['Species','Island','Sex','Culmen Length (mm)','Culmen Depth (mm)','Flipper Length (mm)', 'Body Mass (g)']\n",
        "simplified = penguins[focus]"
      ],
      "execution_count": null,
      "outputs": []
    },
    {
      "cell_type": "markdown",
      "metadata": {},
      "source": [
        "3. Clean up column names"
      ]
    },
    {
      "cell_type": "code",
      "metadata": {},
      "source": [
        "edited_columns = ['species','island','sex','culmen_length', 'culmen_depth','flipper_length','body_mass']\n",
        "simplified.columns = edited_columns"
      ],
      "execution_count": null,
      "outputs": []
    },
    {
      "cell_type": "markdown",
      "metadata": {},
      "source": [
        "4. Simplify factor names. (Note use of dictionary)\n"
      ]
    },
    {
      "cell_type": "code",
      "metadata": {},
      "source": [
        "species = simplified['species'].unique()\n",
        "simple_species_dict={x:x.split(' ')[0].lower() for x in species}\n",
        "simplified['species'].map(simple_species_dict)"
      ],
      "execution_count": null,
      "outputs": []
    },
    {
      "cell_type": "markdown",
      "metadata": {},
      "source": [
        "5. Remaking a column (watch out!)"
      ]
    },
    {
      "cell_type": "code",
      "metadata": {},
      "source": [
        "#simplified['species'] = simplified['species'].map(simple_species_dict)"
      ],
      "execution_count": null,
      "outputs": []
    },
    {
      "cell_type": "markdown",
      "metadata": {},
      "source": [
        "Old option: use .loc."
      ]
    },
    {
      "cell_type": "code",
      "metadata": {},
      "source": [
        "#simplified.loc[:,'species'] = simplified['species'].map(simple_species_dict)"
      ],
      "execution_count": null,
      "outputs": []
    },
    {
      "cell_type": "markdown",
      "metadata": {},
      "source": [
        "Newer option: use .assign().  Notice that .assign() *returns a dataframe.*\n"
      ]
    },
    {
      "cell_type": "code",
      "metadata": {},
      "source": [
        "simplified = simplified.assign(species = lambda x: x['species'].map(simple_species_dict))"
      ],
      "execution_count": null,
      "outputs": []
    },
    {
      "cell_type": "markdown",
      "metadata": {},
      "source": [
        "Fix some other factor variables:"
      ]
    },
    {
      "cell_type": "code",
      "metadata": {},
      "source": [
        "simplified  = simplified.assign(island = lambda x: x.island.str.lower())\n",
        "simplified = simplified.assign(sex = lambda x: x['sex'].str.lower())"
      ],
      "execution_count": null,
      "outputs": []
    },
    {
      "cell_type": "markdown",
      "metadata": {},
      "source": [
        "5.  Standardize the variables - column by column"
      ]
    },
    {
      "cell_type": "code",
      "metadata": {},
      "source": [
        "#simplified = simplified.assign(culmen_length_std = lambda x: (x.culmen_length-x.culmen_length.mean())/x.culmen_length.std())"
      ],
      "execution_count": null,
      "outputs": []
    },
    {
      "cell_type": "markdown",
      "metadata": {},
      "source": [
        "or make a standardization function. (note use of **)"
      ]
    },
    {
      "cell_type": "code",
      "metadata": {},
      "source": [
        "def standardize(x):\n",
        "    return (x-x.mean())/x.std()\n",
        "simplified = simplified.assign(\n",
        "    **{i+'_std':(lambda x: standardize(x[i])) for i in simplified.columns[3:]}\n",
        ")"
      ],
      "execution_count": null,
      "outputs": []
    },
    {
      "cell_type": "markdown",
      "metadata": {},
      "source": [
        "6.  Missing Values"
      ]
    },
    {
      "cell_type": "code",
      "metadata": {},
      "source": [
        "simplified.isna().sum()\n",
        "simplified = simplified.dropna(axis=0)"
      ],
      "execution_count": null,
      "outputs": []
    },
    {
      "cell_type": "markdown",
      "metadata": {},
      "source": [
        "7.  Grouping\n",
        "\n",
        "Grouping combines with aggregation."
      ]
    },
    {
      "cell_type": "code",
      "metadata": {},
      "source": [
        "numerical_variables = ['culmen_length','culmen_depth','flipper_length','body_mass']\n",
        "by_sex_mean = simplified[['sex']+numerical_variables].groupby('sex').mean()"
      ],
      "execution_count": null,
      "outputs": []
    },
    {
      "cell_type": "markdown",
      "metadata": {},
      "source": [
        "Alternatively one can use .agg"
      ]
    },
    {
      "cell_type": "code",
      "metadata": {},
      "source": [
        "numerical_variables = ['culmen_length','culmen_depth','flipper_length','body_mass']\n",
        "by_sex = simplified[['sex']+numerical_variables].groupby('sex').agg('mean')"
      ],
      "execution_count": null,
      "outputs": []
    },
    {
      "cell_type": "markdown",
      "metadata": {},
      "source": [
        "And then get multiple aggregations."
      ]
    },
    {
      "cell_type": "code",
      "metadata": {},
      "source": [
        "by_sex = simplified[['sex']+numerical_variables].groupby('sex').agg(['count','mean','std'])"
      ],
      "execution_count": null,
      "outputs": []
    },
    {
      "cell_type": "markdown",
      "metadata": {},
      "source": [
        "To access individual elements, use tuples as names."
      ]
    },
    {
      "cell_type": "code",
      "metadata": {},
      "source": [
        "by_sex.loc[:,('culmen_depth','mean')]"
      ],
      "execution_count": null,
      "outputs": []
    },
    {
      "cell_type": "markdown",
      "metadata": {},
      "source": [
        "One can also group on multiple factors."
      ]
    },
    {
      "cell_type": "code",
      "metadata": {},
      "source": [
        "by_sex_and_species = simplified[['sex','species']+numerical_variables].groupby(['sex','species']).mean()\n",
        "females_by_species = by_sex_and_species.loc[('female',)]\n",
        "males_by_species = by_sex_and_species.loc[('male',)]"
      ],
      "execution_count": null,
      "outputs": []
    },
    {
      "cell_type": "markdown",
      "metadata": {},
      "source": [
        "8.  Pivot tables"
      ]
    },
    {
      "cell_type": "code",
      "metadata": {},
      "source": [
        "expanded = by_sex_and_species.reset_index()\n",
        "expanded.pivot(index='sex',columns='species',values='culmen_length')"
      ],
      "execution_count": null,
      "outputs": []
    },
    {
      "cell_type": "code",
      "metadata": {},
      "source": [
        "pd.pivot_table(simplified,values='culmen_length',index='sex',columns='species',aggfunc='mean')"
      ],
      "execution_count": null,
      "outputs": []
    }
  ],
  "metadata": {
    "kernelspec": {
      "name": "base",
      "language": "python",
      "display_name": "python3"
    }
  },
  "nbformat": 4,
  "nbformat_minor": 4
}