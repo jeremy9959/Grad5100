{
  "cells": [
    {
      "cell_type": "markdown",
      "metadata": {},
      "source": [
        "## Overview of linear algebra operations in python\n",
        "\n",
        "The `numpy` library is the main tool for linear algebra in python."
      ]
    },
    {
      "cell_type": "code",
      "metadata": {},
      "source": [
        "import numpy as np\n",
        "import pandas as pd"
      ],
      "execution_count": null,
      "outputs": []
    },
    {
      "cell_type": "markdown",
      "metadata": {},
      "source": [
        "## Creating and shaping arrays"
      ]
    },
    {
      "cell_type": "code",
      "metadata": {},
      "source": [
        "m = np.array([1, 2, 3, 4, 5, 6, 7, 8])\n",
        "print(\"Array {} with shape {} (a row vector)\".format(m, m.shape))\n",
        "print(\"Reshaped array to shape (2,4):\\n {}\".format(m.reshape((2, 4))))\n",
        "print(\"Reshaped array to column vector:\\n {}\".format(m.reshape(8, 1)))"
      ],
      "execution_count": null,
      "outputs": []
    },
    {
      "cell_type": "markdown",
      "metadata": {},
      "source": [
        "## Some special arrays"
      ]
    },
    {
      "cell_type": "code",
      "metadata": {},
      "source": [
        "one = np.ones(shape=(3, 4))\n",
        "print(one)\n",
        "zero = np.zeros(shape=(3, 3))\n",
        "print(zero)\n",
        "d = np.diag([1, 2, 3, 4])\n",
        "print(d)"
      ],
      "execution_count": null,
      "outputs": []
    },
    {
      "cell_type": "markdown",
      "metadata": {},
      "source": [
        "## Addition and scalar multiplication"
      ]
    },
    {
      "cell_type": "code",
      "metadata": {},
      "source": [
        "x = np.random.normal(size=(4,))\n",
        "y = np.random.normal(size=(4,))\n",
        "print(x + y)\n",
        "u = np.random.normal(size=(2,))\n",
        "try:\n",
        "    print(x + u)\n",
        "except:\n",
        "    print(\"Cant Mix These\")"
      ],
      "execution_count": null,
      "outputs": []
    },
    {
      "cell_type": "markdown",
      "metadata": {},
      "source": [
        "## Broadcasting"
      ]
    },
    {
      "cell_type": "code",
      "metadata": {},
      "source": [
        "x = np.array([[1, 2], [3, 4]])\n",
        "print(\"x={}\".format(x))\n",
        "print(\"x-1={}\".format(x - 1))\n",
        "z = np.array([1, 2])\n",
        "print(\"z={}\".format(z))\n",
        "print(\"x-z={}\".format(x - z))\n",
        "z = np.array([[3], [4]])\n",
        "print(\"z={}\".format(z))\n",
        "print(\"x-z={}\".format(x - z))"
      ],
      "execution_count": null,
      "outputs": []
    },
    {
      "cell_type": "markdown",
      "metadata": {},
      "source": [
        "## Element by Element"
      ]
    },
    {
      "cell_type": "code",
      "metadata": {},
      "source": [
        "x = np.array([[1, 2, 3], [2, 3, 4], [4, 5, 6]])\n",
        "print(1 / x)\n",
        "print(np.log(x))"
      ],
      "execution_count": null,
      "outputs": []
    },
    {
      "cell_type": "markdown",
      "metadata": {},
      "source": [
        "## Multiplication"
      ]
    },
    {
      "cell_type": "code",
      "metadata": {},
      "source": [
        "x = np.random.normal(size=(3, 4))\n",
        "print(x)\n",
        "y = np.random.normal(size=(4, 1))\n",
        "print(y)\n",
        "print(x @ y)"
      ],
      "execution_count": null,
      "outputs": []
    },
    {
      "cell_type": "markdown",
      "metadata": {},
      "source": [
        "## Transpose"
      ]
    },
    {
      "cell_type": "code",
      "metadata": {},
      "source": [
        "x = np.array([[1, 2, 3], [2, 3, 4], [3, 4, 5]])\n",
        "print(x)\n",
        "print(x.transpose())"
      ],
      "execution_count": null,
      "outputs": []
    },
    {
      "cell_type": "markdown",
      "metadata": {},
      "source": [
        "## Norm"
      ]
    },
    {
      "cell_type": "code",
      "metadata": {},
      "source": [
        "x = np.array([[1, 2], [3, 4]])\n",
        "print(x)\n",
        "y = np.linalg.norm(x)\n",
        "print(y)\n",
        "y = np.linalg.norm(x, axis=0)\n",
        "print(\"axis=0 yields row norms: {}\".format(y))\n",
        "y = np.linalg.norm(x, axis=1)\n",
        "print(\"axis=1 yields column norms: {}\".format(y))"
      ],
      "execution_count": null,
      "outputs": []
    },
    {
      "cell_type": "markdown",
      "metadata": {},
      "source": [
        "## Dataframes and matrices"
      ]
    },
    {
      "cell_type": "code",
      "metadata": {},
      "source": [
        "data = pd.read_csv(\"data/penguins-raw.csv\")\n",
        "print(data[[\"Body Mass (g)\"]])\n",
        "print(data[[\"Body Mass (g)\"]].values)"
      ],
      "execution_count": null,
      "outputs": []
    },
    {
      "cell_type": "markdown",
      "metadata": {},
      "source": [
        "## Datatypes"
      ]
    },
    {
      "cell_type": "code",
      "metadata": {},
      "source": [
        "x = np.array([[1, 2, 3], [2, 3, 4]], dtype=int)\n",
        "print(x)\n",
        "y = np.array([[1, 2, 3], [2, 3, 4]], dtype=float)\n",
        "print(y)\n",
        "print(x + y)"
      ],
      "execution_count": null,
      "outputs": []
    }
  ],
  "metadata": {
    "kernelspec": {
      "name": "base",
      "language": "python",
      "display_name": "python3"
    }
  },
  "nbformat": 4,
  "nbformat_minor": 4
}