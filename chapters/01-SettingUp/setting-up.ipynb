{
  "cells": [
    {
      "cell_type": "raw",
      "id": "055d1189",
      "metadata": {},
      "source": [
        "---\n",
        "title: \"Key Tools\"\n",
        "subtitle: \"Fundamentals of Data Science\"\n",
        "author: \"Jeremy Teitelbaum\"\n",
        "format: html\n",
        "title-block-style: plain\n",
        "---"
      ]
    },
    {
      "cell_type": "markdown",
      "id": "640938d8",
      "metadata": {},
      "source": [
        "# Key Software Tools\n",
        "\n",
        "## Anaconda Install for Python\n",
        "\n",
        "- Download from \n",
        "[https://www.anaconda.com](https://www.anaconda.com)\n",
        "\n",
        "Anaconda includes:\n",
        "\n",
        "- python\n",
        "- jupyter: notebook working environment\n",
        "- python libraries: ML, visualization, I/O and others\n",
        "- conda package manager: for dealing with multiple versions of libraries\n",
        "- anaconda navigator: a GUI gateway to anaconda tools\n",
        "- lots of other stuff\n",
        "\n",
        "## Verify Anaconda\n",
        "\n",
        "- Verify JupyterLab\n",
        "\n",
        "From a command line\n",
        "```bash\n",
        "$ jupyter lab \n",
        "```\n",
        "or use anaconda navigator to launch jupyterlab.\n",
        "\n",
        "![](./jupyterlab.png)\n",
        "\n",
        "- Verify python version\n",
        "\n",
        "From a command line"
      ]
    },
    {
      "cell_type": "code",
      "execution_count": 1,
      "id": "00eb2407",
      "metadata": {},
      "outputs": [
        {
          "name": "stdout",
          "output_type": "stream",
          "text": [
            "Python 3.11.3\n"
          ]
        }
      ],
      "source": [
        "!python --version"
      ]
    },
    {
      "cell_type": "markdown",
      "id": "65a29f92",
      "metadata": {},
      "source": [
        "or inside a jupyter notebook cell:"
      ]
    },
    {
      "cell_type": "code",
      "execution_count": 2,
      "id": "afb249fb",
      "metadata": {},
      "outputs": [
        {
          "name": "stdout",
          "output_type": "stream",
          "text": [
            "3.11.3 | packaged by conda-forge | (main, Apr  6 2023, 08:57:19) [GCC 11.3.0]\n"
          ]
        }
      ],
      "source": [
        "import sys\n",
        "\n",
        "print(sys.version)"
      ]
    },
    {
      "cell_type": "markdown",
      "id": "62d24edc",
      "metadata": {},
      "source": [
        "## R and Rstudio Install for R\n",
        "\n",
        "- R is an open source language for statistical computations.\n",
        "- Rstudio is a working environment for the R language.\n",
        "- R and Rstudio need to be installed separately.\n",
        "\n",
        "- R is available at [https://cran.r-project.org](https://cran.r-project.org)\n",
        "- Rstudio is available at [https://posit.co/download/rstudio-desktop](https://posit.co/download/rstudio-desktop)\n",
        "\n",
        "## Verify R and Rstudio\n",
        "\n",
        "For R, From a command line:\n",
        "```bash\n",
        "$ R \n",
        "```\n",
        "\n",
        "For Rstudio, use the icon/shortcut or from a command line:\n",
        "```bash\n",
        "$ rstudio \n",
        "```\n",
        "\n",
        "## VSCode\n",
        "\n",
        "- vscode is a very powerful \"IDE\" (integrated development environment).\n",
        "- it can integrate jupyter notebooks and r workbooks, though it takes some setting up\n",
        "- vscode is integrated with GitHub copilot, a version of ChatGPT-3 that helps write code.\n",
        "- vscode is available at [http://code.visualstudio.com](http://code.visualstudio.com) for windows, linux, and macOS.\n",
        "\n",
        "\n",
        "\n",
        "\n",
        "## Using vscode\n",
        "\n",
        "VSCode (visual studio code) is a freely distributed code editor/IDE distributed by microsoft.\n",
        "\n",
        "It is extremely capable and well-suited for software development in python and other languages.\n",
        "\n",
        "It is perhaps not as optimized for R as Rstudio but it does work.\n",
        "\n",
        "You can access github copilot a version of chatGPT optimized for code, inside vscode in a straightforward way.\n",
        "\n",
        "## Installing vscode\n",
        "\n",
        "[The software is available here](https://code.visualstudio.com).\n",
        "\n",
        "You need a [github account](https://github.com) to use github copilot, and you need\n",
        "to sign in to that account from inside vscode.\n",
        "GitHub copilot is free to students, but you need to sign up for the [student developer pack.](https://education.github.com/benefits?type=student).\n",
        "\n",
        "![](./vscode.png)\n",
        "\n",
        "## Overview of vscode\n",
        "\n",
        "- Opening folders (as projects)\n",
        "- Opening files\n",
        "- Install Extensions:\n",
        "    - python\n",
        "    - R\n",
        "    - many others\n",
        "- The command palette\n",
        "\n",
        "## More on vscode\n",
        "\n",
        "- jupyter notebooks inside vscode with github copilot\n",
        "- Interactive python with code cells (# %%)\n",
        "- The terminal\n",
        "\n",
        "\n",
        "## Setting up a Project\n",
        "\n",
        "- Create a project directory\n",
        "- Subdirectories\n",
        "    - data for data files\n",
        "    - docs for notes and documentation\n",
        "    - others?\n",
        "- Create a README.md file \n",
        "\n",
        "## Tools\n",
        "\n",
        "For the directories:\n",
        "\n",
        "- the finder or File Manager\n",
        "- the command line\n",
        "\n",
        "For the README file:\n",
        "\n",
        "- a text editor such as `nano` or notepad \n",
        "- jupyter or Rstudio (as we will see soon)\n",
        "- vscode\n"
      ]
    }
  ],
  "metadata": {
    "kernelspec": {
      "display_name": "Python 3 (ipykernel)",
      "language": "python",
      "name": "python3"
    },
    "language_info": {
      "codemirror_mode": {
        "name": "ipython",
        "version": 3
      },
      "file_extension": ".py",
      "mimetype": "text/x-python",
      "name": "python",
      "nbconvert_exporter": "python",
      "pygments_lexer": "ipython3",
      "version": "3.11.3"
    }
  },
  "nbformat": 4,
  "nbformat_minor": 5
}
