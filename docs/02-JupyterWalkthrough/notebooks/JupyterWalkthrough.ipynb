{
 "cells": [
  {
   "cell_type": "markdown",
   "id": "8320583b-2758-4d51-9e21-64a1f97875b8",
   "metadata": {
    "tags": []
   },
   "source": [
    "# Jupyter Lab Project Walkthrough\n",
    "\n",
    "1. Use the 'text editor' feature in Jupyter Lab to create your README.md file.\n",
    "2. **RENAME YOUR NOTEBOOK FILE IMMEDIATELY** to something relevant\n",
    "3. CTRL-ENTER executes a cell."
   ]
  },
  {
   "cell_type": "markdown",
   "id": "6da757be-a0f1-4522-896d-c3c2a6cc5a70",
   "metadata": {},
   "source": [
    "## Markdown cells\n",
    "\n",
    "This is a markdown cell:\n",
    "\n",
    "- Headings are \\#, \\#\\#, etc.\n",
    "- Bold is marked \\*\\*make me bold\\*\\* like **this**.\n",
    "- Italics are marked \\*make me italic\\* like *this*.\n",
    "- Math can be typeset with \\LaTeX if you know it:  $$f(x)=e^{-x}\\cos(x)$$\n",
    "- Bulleted lists are marked with \\-.\n"
   ]
  },
  {
   "cell_type": "code",
   "execution_count": 3,
   "id": "59c60380-3ce9-492c-87a6-990ec147e55c",
   "metadata": {
    "tags": []
   },
   "outputs": [
    {
     "name": "stdout",
     "output_type": "stream",
     "text": [
      "Hello World!\n"
     ]
    }
   ],
   "source": [
    "# code cells\n",
    "## Code cells contain python code that gets executed.  \n",
    "# indicates a comment that is ignored.\n",
    "print(\"Hello World!\")"
   ]
  },
  {
   "attachments": {},
   "cell_type": "markdown",
   "id": "d1502c2b-9fb1-41b4-b4a7-3eb4d6079b49",
   "metadata": {},
   "source": [
    "In this walkthrough we will look at the following elements of Python in a jupyter notebook.\n",
    "\n",
    "The print statement\n"
   ]
  },
  {
   "cell_type": "code",
   "execution_count": 1,
   "id": "2c0117ee",
   "metadata": {},
   "outputs": [
    {
     "name": "stdout",
     "output_type": "stream",
     "text": [
      "hello world!\n"
     ]
    }
   ],
   "source": [
    "print(\"hello world!\")\n"
   ]
  },
  {
   "attachments": {},
   "cell_type": "markdown",
   "id": "98b7b918",
   "metadata": {},
   "source": [
    "\n",
    "Variables, variable names, and assignment/datatypes"
   ]
  },
  {
   "cell_type": "code",
   "execution_count": 34,
   "id": "196cd4f7",
   "metadata": {},
   "outputs": [],
   "source": [
    "count = 5 # an integer\n",
    "name = \"Jeremy Teitelbaum\" # a string\n",
    "paragraph = \"\"\"This is how you enter a multiline string\n",
    "in python. It is enclosed in triple quotes.\"\"\"\n",
    "pi = 3.14159 # a float\n",
    "epsilon = 1.0e-6 # a float\n",
    "students = [\"Jeremy\", \"Phillip\", \"Sara\", \"Molly\"] # a list\n",
    "HotDog = True\n",
    "\n"
   ]
  },
  {
   "cell_type": "code",
   "execution_count": 36,
   "id": "53cdd451",
   "metadata": {},
   "outputs": [
    {
     "name": "stdout",
     "output_type": "stream",
     "text": [
      "['Jeremy', 'Phillip', 'Sara', 'Molly']\n"
     ]
    }
   ],
   "source": [
    "print(students)"
   ]
  },
  {
   "cell_type": "code",
   "execution_count": 35,
   "id": "65fc3ab0",
   "metadata": {},
   "outputs": [
    {
     "name": "stdout",
     "output_type": "stream",
     "text": [
      "This is how you enter a multiline string\n",
      "in python. It is enclosed in triple quotes.\n"
     ]
    }
   ],
   "source": [
    "print(paragraph)"
   ]
  },
  {
   "attachments": {},
   "cell_type": "markdown",
   "id": "e2ef7f8f",
   "metadata": {},
   "source": [
    "Arithmetic operations\n"
   ]
  },
  {
   "cell_type": "code",
   "execution_count": 5,
   "id": "69138795",
   "metadata": {},
   "outputs": [
    {
     "name": "stdout",
     "output_type": "stream",
     "text": [
      "5\n",
      "6\n"
     ]
    }
   ],
   "source": [
    "print(count)\n",
    "count = count + 1\n",
    "print(count)"
   ]
  },
  {
   "cell_type": "code",
   "execution_count": 7,
   "id": "99344366",
   "metadata": {},
   "outputs": [
    {
     "data": {
      "text/plain": [
       "0.31831015504887655"
      ]
     },
     "execution_count": 7,
     "metadata": {},
     "output_type": "execute_result"
    }
   ],
   "source": [
    "1/pi"
   ]
  },
  {
   "cell_type": "code",
   "execution_count": 12,
   "id": "42bf461d",
   "metadata": {},
   "outputs": [
    {
     "name": "stdout",
     "output_type": "stream",
     "text": [
      "8\n",
      "0.5\n",
      "2.0\n"
     ]
    }
   ],
   "source": [
    "print(2**3) # exponent\n",
    "print(1/2) # division (converts integer to float)\n",
    "print(1/(1/2)) # 2 becomes 2.0"
   ]
  },
  {
   "cell_type": "code",
   "execution_count": 15,
   "id": "b5c722e6",
   "metadata": {},
   "outputs": [
    {
     "name": "stdout",
     "output_type": "stream",
     "text": [
      "1 2\n"
     ]
    }
   ],
   "source": [
    "quotient = 5//3 # integer division\n",
    "remainder = 5 % 3 # remainder\n",
    "print(quotient, remainder)"
   ]
  },
  {
   "attachments": {},
   "cell_type": "markdown",
   "id": "4292fdb1",
   "metadata": {},
   "source": [
    "\n",
    "Operations on strings and lists\n"
   ]
  },
  {
   "cell_type": "code",
   "execution_count": 17,
   "id": "e50e89fd",
   "metadata": {},
   "outputs": [
    {
     "data": {
      "text/plain": [
       "'Jeremy Teitelbaum'"
      ]
     },
     "execution_count": 17,
     "metadata": {},
     "output_type": "execute_result"
    }
   ],
   "source": [
    "\"Jeremy\" + \" Teitelbaum\""
   ]
  },
  {
   "cell_type": "code",
   "execution_count": 18,
   "id": "7ba1ee37",
   "metadata": {},
   "outputs": [
    {
     "data": {
      "text/plain": [
       "['a', 'b', 'c', 'd']"
      ]
     },
     "execution_count": 18,
     "metadata": {},
     "output_type": "execute_result"
    }
   ],
   "source": [
    "[\"a\",\"b\",\"c\"]+[\"d\"]"
   ]
  },
  {
   "cell_type": "code",
   "execution_count": 19,
   "id": "d444baa1",
   "metadata": {},
   "outputs": [
    {
     "data": {
      "text/plain": [
       "6"
      ]
     },
     "execution_count": 19,
     "metadata": {},
     "output_type": "execute_result"
    }
   ],
   "source": [
    "len(\"Jeremy\")"
   ]
  },
  {
   "cell_type": "code",
   "execution_count": 20,
   "id": "e8c5bf8c",
   "metadata": {},
   "outputs": [
    {
     "data": {
      "text/plain": [
       "2"
      ]
     },
     "execution_count": 20,
     "metadata": {},
     "output_type": "execute_result"
    }
   ],
   "source": [
    "len([\"Jeremy\",\"Teitelbaum\"])"
   ]
  },
  {
   "cell_type": "code",
   "execution_count": 26,
   "id": "be6f88a3",
   "metadata": {},
   "outputs": [
    {
     "name": "stdout",
     "output_type": "stream",
     "text": [
      "Jeremy\n",
      "Teitelbaum\n",
      "Jeremy Teitelbaum\n"
     ]
    }
   ],
   "source": [
    "firstName = \"Jeremy\"\n",
    "lastName = \"Teitelbaum\"\n",
    "fullName = firstName + \" \" + lastName\n"
   ]
  },
  {
   "attachments": {},
   "cell_type": "markdown",
   "id": "dccf18b0",
   "metadata": {},
   "source": [
    "Some fancier printing"
   ]
  },
  {
   "cell_type": "code",
   "execution_count": 31,
   "id": "5ceda8b6",
   "metadata": {},
   "outputs": [
    {
     "name": "stdout",
     "output_type": "stream",
     "text": [
      "The first name is Jeremy\n",
      "The last name is Teitelbaum\n",
      "The full name is Jeremy Teitelbaum\n",
      "Jeremy,Teitelbaum\n",
      "Jeremy:Teitelbaum\n"
     ]
    }
   ],
   "source": [
    "print(f\"The first name is {firstName}\")\n",
    "print(f\"The last name is {lastName}\")\n",
    "print(f\"The full name is {firstName} {lastName}\")\n",
    "print(firstName, lastName, sep=',')\n",
    "print(firstName, lastName, sep=':')"
   ]
  },
  {
   "attachments": {},
   "cell_type": "markdown",
   "id": "62fe8ef6",
   "metadata": {},
   "source": [
    "Slicing\n",
    "\n",
    "In python, we **always count from zero**!!!"
   ]
  },
  {
   "cell_type": "code",
   "execution_count": 37,
   "id": "3b4c46d3",
   "metadata": {},
   "outputs": [
    {
     "data": {
      "text/plain": [
       "'J'"
      ]
     },
     "execution_count": 37,
     "metadata": {},
     "output_type": "execute_result"
    }
   ],
   "source": [
    "firstName[0]"
   ]
  },
  {
   "cell_type": "code",
   "execution_count": 38,
   "id": "4d32b3b9",
   "metadata": {},
   "outputs": [
    {
     "data": {
      "text/plain": [
       "'e'"
      ]
     },
     "execution_count": 38,
     "metadata": {},
     "output_type": "execute_result"
    }
   ],
   "source": [
    "lastName[1]"
   ]
  },
  {
   "cell_type": "code",
   "execution_count": 40,
   "id": "99517066",
   "metadata": {},
   "outputs": [
    {
     "name": "stdout",
     "output_type": "stream",
     "text": [
      "Jer\n",
      "emy\n",
      "em\n",
      "y\n"
     ]
    }
   ],
   "source": [
    "# [a:b] means from a to b-1 inclusive\n",
    "\n",
    "print(firstName[0:3])\n",
    "print(firstName[3:])\n",
    "print(firstName[3:5])\n"
   ]
  },
  {
   "cell_type": "code",
   "execution_count": 42,
   "id": "5af90be2",
   "metadata": {},
   "outputs": [
    {
     "name": "stdout",
     "output_type": "stream",
     "text": [
      "y\n",
      "em\n"
     ]
    }
   ],
   "source": [
    "# negative indices count from the end\n",
    "print(firstName[-1]) # the last element\n",
    "print(firstName[-3:-1]) # elements -3 and -2, but not -1"
   ]
  },
  {
   "cell_type": "code",
   "execution_count": 48,
   "id": "ef22886e",
   "metadata": {},
   "outputs": [
    {
     "name": "stdout",
     "output_type": "stream",
     "text": [
      "Jrm\n",
      "Jrm\n",
      "ymereJ\n",
      "ereJ\n",
      "ere\n"
     ]
    }
   ],
   "source": [
    "# [a:b:c] means from a to b-1 in steps of c\n",
    "# missing numbers mean (beginnging):(end)\n",
    "print(firstName[:5:2])\n",
    "print(firstName[::2])\n",
    "print(firstName[::-1]) # reverse the string\n",
    "print(firstName[3::-1]) # 3,2,1,0\n",
    "print(firstName[3:0:-1]) # 3,2,1"
   ]
  },
  {
   "attachments": {},
   "cell_type": "markdown",
   "id": "7382f588",
   "metadata": {},
   "source": [
    "Slices work the same on list elements"
   ]
  },
  {
   "cell_type": "code",
   "execution_count": 52,
   "id": "f169e59e",
   "metadata": {},
   "outputs": [
    {
     "name": "stdout",
     "output_type": "stream",
     "text": [
      "Jeremy\n",
      "Molly\n",
      "['Jeremy', 'Sara']\n",
      "['Jeremy', 'Sara']\n"
     ]
    }
   ],
   "source": [
    "print(students[0])\n",
    "print(students[-1])\n",
    "every_other_student = students[::2]\n",
    "print(every_other_student)\n"
   ]
  },
  {
   "attachments": {},
   "cell_type": "markdown",
   "id": "69bc065d",
   "metadata": {},
   "source": [
    "Libraries\n"
   ]
  },
  {
   "cell_type": "code",
   "execution_count": 53,
   "id": "3c4e38e5",
   "metadata": {},
   "outputs": [],
   "source": [
    "import math"
   ]
  },
  {
   "cell_type": "code",
   "execution_count": 54,
   "id": "7b333d3d-502e-4159-a52c-59a450f35f72",
   "metadata": {},
   "outputs": [
    {
     "data": {
      "text/plain": [
       "3.1354942159291497"
      ]
     },
     "execution_count": 54,
     "metadata": {},
     "output_type": "execute_result"
    }
   ],
   "source": [
    "math.log(23)"
   ]
  },
  {
   "cell_type": "code",
   "execution_count": 55,
   "id": "262e9336",
   "metadata": {},
   "outputs": [
    {
     "data": {
      "text/plain": [
       "3.141592653589793"
      ]
     },
     "execution_count": 55,
     "metadata": {},
     "output_type": "execute_result"
    }
   ],
   "source": [
    "math.pi"
   ]
  },
  {
   "cell_type": "code",
   "execution_count": 62,
   "id": "85f05634",
   "metadata": {},
   "outputs": [
    {
     "data": {
      "text/plain": [
       "6.123233995736766e-17"
      ]
     },
     "execution_count": 62,
     "metadata": {},
     "output_type": "execute_result"
    }
   ],
   "source": [
    "math.cos(math.pi/2) # should be zero"
   ]
  },
  {
   "cell_type": "code",
   "execution_count": 63,
   "id": "6b791e27",
   "metadata": {},
   "outputs": [
    {
     "data": {
      "text/plain": [
       "False"
      ]
     },
     "execution_count": 63,
     "metadata": {},
     "output_type": "execute_result"
    }
   ],
   "source": [
    "math.cos(math.pi/2)==0"
   ]
  },
  {
   "cell_type": "code",
   "execution_count": 64,
   "id": "322d718b",
   "metadata": {},
   "outputs": [
    {
     "data": {
      "text/plain": [
       "True"
      ]
     },
     "execution_count": 64,
     "metadata": {},
     "output_type": "execute_result"
    }
   ],
   "source": [
    "abs(math.cos(math.pi/2))<1e-6"
   ]
  },
  {
   "cell_type": "code",
   "execution_count": 65,
   "id": "2bfcf2a2",
   "metadata": {},
   "outputs": [
    {
     "data": {
      "text/plain": [
       "False"
      ]
     },
     "execution_count": 65,
     "metadata": {},
     "output_type": "execute_result"
    }
   ],
   "source": [
    "math.pi == pi"
   ]
  }
 ],
 "metadata": {
  "kernelspec": {
   "display_name": "Python 3 (ipykernel)",
   "language": "python",
   "name": "python3"
  },
  "language_info": {
   "codemirror_mode": {
    "name": "ipython",
    "version": 3
   },
   "file_extension": ".py",
   "mimetype": "text/x-python",
   "name": "python",
   "nbconvert_exporter": "python",
   "pygments_lexer": "ipython3",
   "version": "3.11.3"
  }
 },
 "nbformat": 4,
 "nbformat_minor": 5
}
