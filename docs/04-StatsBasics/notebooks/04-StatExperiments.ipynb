{
 "cells": [
  {
   "attachments": {},
   "cell_type": "markdown",
   "metadata": {},
   "source": [
    "## Testing the relative sizes of male and female penguins of a given species"
   ]
  },
  {
   "cell_type": "code",
   "execution_count": 1,
   "metadata": {},
   "outputs": [],
   "source": [
    "import pandas as pd\n",
    "import matplotlib.pyplot as plt\n",
    "import seaborn as sns\n",
    "import numpy as np\n"
   ]
  },
  {
   "attachments": {},
   "cell_type": "markdown",
   "metadata": {},
   "source": [
    "We use a simplified version of the penguins dataset from [kaggle](https://www.kaggle.com/datasets/way2studytable/palmer-penguins-using-r).\n",
    "We drop the rows with missing data. "
   ]
  },
  {
   "cell_type": "code",
   "execution_count": 2,
   "metadata": {},
   "outputs": [],
   "source": [
    "penguins = pd.read_csv('data/penguins_size.csv').dropna()\n",
    "valid  = penguins['sex'].apply(lambda x: x in ['MALE','FEMALE'])\n",
    "penguins = penguins[valid]"
   ]
  },
  {
   "cell_type": "code",
   "execution_count": 3,
   "metadata": {},
   "outputs": [
    {
     "data": {
      "text/plain": [
       "<Axes: xlabel='species', ylabel='body_mass_g'>"
      ]
     },
     "execution_count": 3,
     "metadata": {},
     "output_type": "execute_result"
    },
    {
     "data": {
      "image/png": "[encoded data removed]",
      "text/plain": [
       "<Figure size 640x480 with 1 Axes>"
      ]
     },
     "metadata": {},
     "output_type": "display_data"
    }
   ],
   "source": [
    "sns.boxplot(data=penguins, x='species', y='body_mass_g',hue=\"sex\")"
   ]
  },
  {
   "cell_type": "code",
   "execution_count": 4,
   "metadata": {},
   "outputs": [],
   "source": [
    "Adelie = penguins[penguins['species']=='Adelie']"
   ]
  },
  {
   "cell_type": "code",
   "execution_count": 10,
   "metadata": {},
   "outputs": [
    {
     "name": "stdout",
     "output_type": "stream",
     "text": [
      "        count         mean         std     min     25%     50%     75%     max\n",
      "sex                                                                           \n",
      "FEMALE   73.0  3368.835616  269.380102  2850.0  3175.0  3400.0  3550.0  3900.0\n",
      "MALE     73.0  4043.493151  346.811553  3325.0  3800.0  4000.0  4300.0  4775.0\n",
      "<class 'float'>\n",
      "-674.6575342465753\n"
     ]
    }
   ],
   "source": [
    "summary = Adelie.groupby('sex')['body_mass_g'].describe()\n",
    "print(summary)\n",
    "nFemale = summary.loc['FEMALE','count']\n",
    "# the errors here are related to how numpy types are defined and aren't real\n",
    "FemaleMean = summary.loc['FEMALE','mean']\n",
    "MaleMean =  summary.loc['MALE','mean']\n",
    "print(type(FemaleMean))\n",
    "diff = FemaleMean - MaleMean\n"
   ]
  },
  {
   "cell_type": "code",
   "execution_count": null,
   "metadata": {},
   "outputs": [],
   "source": [
    "shuffled_diffs=[]\n",
    "for i in range(1000):\n",
    "    shuffled = Adelie.sample(frac=1)\n",
    "    shuffled_mean = shuffled.loc[:nFemale,'body_mass_g'].mean() - shuffled.loc[nFemale:,'body_mass_g'].mean()\n",
    "    shuffled_diffs.append(shuffled_mean)\n",
    "print(np.mean([diff < x for x in shuffled_diffs]))"
   ]
  },
  {
   "cell_type": "code",
   "execution_count": null,
   "metadata": {},
   "outputs": [],
   "source": [
    "sns.histplot(shuffled_diffs).set(title='Resampling of differences in mean weights\\n for male and female Adelie penguins')"
   ]
  },
  {
   "cell_type": "code",
   "execution_count": null,
   "metadata": {},
   "outputs": [],
   "source": [
    "means=Adelie.groupby('sex')['body_mass_g'].mean()"
   ]
  },
  {
   "cell_type": "code",
   "execution_count": null,
   "metadata": {},
   "outputs": [],
   "source": [
    "from scipy.stats import ttest_ind"
   ]
  },
  {
   "cell_type": "code",
   "execution_count": null,
   "metadata": {},
   "outputs": [],
   "source": [
    "Adelie[Adelie['sex']=='MALE']['body_mass_g']"
   ]
  },
  {
   "cell_type": "code",
   "execution_count": null,
   "metadata": {},
   "outputs": [],
   "source": [
    "ttest_ind(Adelie[Adelie['sex']=='FEMALE']['body_mass_g'],Adelie[Adelie['sex']=='MALE']['body_mass_g'])"
   ]
  },
  {
   "cell_type": "code",
   "execution_count": null,
   "metadata": {},
   "outputs": [],
   "source": [
    "grouped = penguins.groupby(['species','sex'],as_index=False)['body_mass_g'].agg(['mean','count'])\n"
   ]
  },
  {
   "cell_type": "code",
   "execution_count": null,
   "metadata": {},
   "outputs": [],
   "source": [
    "grouped['key'] = grouped['species']+'-'+grouped['sex']"
   ]
  },
  {
   "cell_type": "code",
   "execution_count": null,
   "metadata": {},
   "outputs": [],
   "source": [
    "grouped"
   ]
  },
  {
   "cell_type": "code",
   "execution_count": null,
   "metadata": {},
   "outputs": [],
   "source": [
    "penguins['key']=penguins['species']+'-'+penguins['sex']"
   ]
  },
  {
   "cell_type": "code",
   "execution_count": null,
   "metadata": {},
   "outputs": [],
   "source": [
    "obs_var = penguins.groupby('key')['body_mass_g'].mean().var()"
   ]
  },
  {
   "cell_type": "code",
   "execution_count": null,
   "metadata": {},
   "outputs": [],
   "source": [
    "vars=[]\n",
    "for i in range(100):\n",
    "    shuffled = penguins.copy()\n",
    "    shuffled['body_mass_g'] = (shuffled['body_mass_g']).sample(frac=1,ignore_index=True)\n",
    "    vars.append(shuffled.groupby('key')['body_mass_g'].mean().var())\n",
    "np.mean([obs_var < x for x in vars])"
   ]
  },
  {
   "cell_type": "code",
   "execution_count": null,
   "metadata": {},
   "outputs": [],
   "source": []
  }
 ],
 "metadata": {
  "kernelspec": {
   "display_name": "pandas2.0",
   "language": "python",
   "name": "python3"
  },
  "language_info": {
   "codemirror_mode": {
    "name": "ipython",
    "version": 3
   },
   "file_extension": ".py",
   "mimetype": "text/x-python",
   "name": "python",
   "nbconvert_exporter": "python",
   "pygments_lexer": "ipython3",
   "version": "3.11.3"
  },
  "orig_nbformat": 4
 },
 "nbformat": 4,
 "nbformat_minor": 2
}
