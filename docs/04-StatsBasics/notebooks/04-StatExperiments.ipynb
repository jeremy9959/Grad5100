{
 "cells": [
  {
   "attachments": {},
   "cell_type": "markdown",
   "metadata": {},
   "source": [
    "## Testing the relative sizes of male and female penguins of a given species"
   ]
  },
  {
   "cell_type": "code",
   "execution_count": null,
   "metadata": {},
   "outputs": [],
   "source": [
    "import pandas as pd\n",
    "import matplotlib.pyplot as plt\n",
    "import seaborn as sns\n",
    "import numpy as np\n"
   ]
  },
  {
   "attachments": {},
   "cell_type": "markdown",
   "metadata": {},
   "source": [
    "We use a simplified version of the penguins dataset from [kaggle](https://www.kaggle.com/datasets/way2studytable/palmer-penguins-using-r).\n",
    "We drop the rows with missing data. "
   ]
  },
  {
   "cell_type": "code",
   "execution_count": null,
   "metadata": {},
   "outputs": [],
   "source": [
    "penguins = pd.read_csv('data/penguins_size.csv').dropna()\n",
    "valid  = penguins['sex'].apply(lambda x: x in ['MALE','FEMALE'])\n",
    "penguins = penguins[valid]"
   ]
  },
  {
   "cell_type": "code",
   "execution_count": null,
   "metadata": {},
   "outputs": [],
   "source": [
    "sns.boxplot(data=penguins, x='species', y='body_mass_g',hue=\"sex\")"
   ]
  },
  {
   "cell_type": "code",
   "execution_count": null,
   "metadata": {},
   "outputs": [],
   "source": [
    "Adelie = penguins[penguins['species']=='Adelie']"
   ]
  },
  {
   "cell_type": "code",
   "execution_count": null,
   "metadata": {},
   "outputs": [],
   "source": [
    "summary = Adelie.groupby('sex')['body_mass_g'].describe()\n",
    "print(summary)\n",
    "nFemale = summary.loc['FEMALE','count']\n",
    "diff = summary.loc['FEMALE','mean']- summary.loc['MALE','mean']\n",
    "print(diff)\n"
   ]
  },
  {
   "cell_type": "code",
   "execution_count": null,
   "metadata": {},
   "outputs": [],
   "source": [
    "shuffled_diffs=[]\n",
    "for i in range(1000):\n",
    "    shuffled = Adelie.sample(frac=1)\n",
    "    shuffled_mean = shuffled.loc[:nFemale,'body_mass_g'].mean() - shuffled.loc[nFemale:,'body_mass_g'].mean()\n",
    "    shuffled_diffs.append(shuffled_mean)\n",
    "print(np.mean([diff < x for x in shuffled_diffs]))"
   ]
  },
  {
   "cell_type": "code",
   "execution_count": null,
   "metadata": {},
   "outputs": [],
   "source": [
    "sns.histplot(shuffled_diffs).set(title='Resampling of differences in mean weights\\n for male and female Adelie penguins')"
   ]
  },
  {
   "cell_type": "code",
   "execution_count": null,
   "metadata": {},
   "outputs": [],
   "source": [
    "means=Adelie.groupby('sex')['body_mass_g'].mean()"
   ]
  },
  {
   "cell_type": "code",
   "execution_count": null,
   "metadata": {},
   "outputs": [],
   "source": [
    "from scipy.stats import ttest_ind"
   ]
  },
  {
   "cell_type": "code",
   "execution_count": null,
   "metadata": {},
   "outputs": [],
   "source": [
    "Adelie[Adelie['sex']=='MALE']['body_mass_g']"
   ]
  },
  {
   "cell_type": "code",
   "execution_count": null,
   "metadata": {},
   "outputs": [],
   "source": [
    "ttest_ind(Adelie[Adelie['sex']=='FEMALE']['body_mass_g'],Adelie[Adelie['sex']=='MALE']['body_mass_g'])"
   ]
  },
  {
   "cell_type": "code",
   "execution_count": null,
   "metadata": {},
   "outputs": [],
   "source": [
    "grouped = penguins.groupby(['species','sex'],as_index=False)['body_mass_g'].agg(['mean','count'])\n"
   ]
  },
  {
   "cell_type": "code",
   "execution_count": null,
   "metadata": {},
   "outputs": [],
   "source": [
    "grouped['key'] = grouped['species']+'-'+grouped['sex']"
   ]
  },
  {
   "cell_type": "code",
   "execution_count": null,
   "metadata": {},
   "outputs": [],
   "source": [
    "grouped"
   ]
  },
  {
   "cell_type": "code",
   "execution_count": null,
   "metadata": {},
   "outputs": [],
   "source": [
    "penguins['key']=penguins['species']+'-'+penguins['sex']"
   ]
  },
  {
   "cell_type": "code",
   "execution_count": null,
   "metadata": {},
   "outputs": [],
   "source": [
    "obs_var = penguins.groupby('key')['body_mass_g'].mean().var()"
   ]
  },
  {
   "cell_type": "code",
   "execution_count": null,
   "metadata": {},
   "outputs": [],
   "source": [
    "vars=[]\n",
    "for i in range(100):\n",
    "    shuffled = penguins.copy()\n",
    "    shuffled['body_mass_g'] = (shuffled['body_mass_g']).sample(frac=1,ignore_index=True)\n",
    "    vars.append(shuffled.groupby('key')['body_mass_g'].mean().var())\n",
    "np.mean([obs_var < x for x in vars])"
   ]
  },
  {
   "cell_type": "code",
   "execution_count": null,
   "metadata": {},
   "outputs": [],
   "source": []
  }
 ],
 "metadata": {
  "kernelspec": {
   "display_name": "pandas2.0",
   "language": "python",
   "name": "python3"
  },
  "language_info": {
   "codemirror_mode": {
    "name": "ipython",
    "version": 3
   },
   "file_extension": ".py",
   "mimetype": "text/x-python",
   "name": "python",
   "nbconvert_exporter": "python",
   "pygments_lexer": "ipython3",
   "version": "3.11.3"
  },
  "orig_nbformat": 4
 },
 "nbformat": 4,
 "nbformat_minor": 2
}
