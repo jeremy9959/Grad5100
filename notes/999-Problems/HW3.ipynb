{
 "cells": [
  {
   "cell_type": "markdown",
   "metadata": {},
   "source": [
    "1. There are a rows with missing titles and there are a bunch of extra columns at the end of the dataframe.  Delete the extra columns and the rows where the title is missing.\n",
    "\n",
    "2. After the changes in (1), how many rows have missing authors?\n",
    "Show the titles of the books with missing authors and then\n",
    "delete those from the data frame. \n",
    "\n",
    "3. In the remaining dataset, the price column *mostly* consists of strings with a \\$ and then the price.  But a few of the entries don't have the \\$ and are already numbers.  \n",
    "\n",
    "    - Fix this column so every entry is a number and you can do arithmetic on it.   \n",
    "    - Which books are missing a price? Show those books.\n",
    "    - Delete any books with missing prices from the data set.\n",
    "\n",
    "4.  Of the remaining books, which ones  are missing a rating?\n",
    "\n",
    "    - show the books that are missing a rating\n",
    "    - delete these books from the data set.\n",
    "\n",
    "5. The ratings are entered as strings, and, for some reason, a few of the ratings are entered with a $. (So it says \\$4.40 instead of 4.4). How many of these are there? Fix this column so that all of the entries are numbers, and get rid of the \\$. Drop any rows where the rating is missing. \n",
    "\n",
    "6. Make a new column 'quality' where the entry is \"Excellent\" if the rating is >=4.5,\n",
    "\"Good\" if it is between >=3.8 and <4.5, and \"Fair\" if it is <3.8.\n",
    "\n",
    "7. Make a table with rows \"Excellent\", \"Good\" and \"Fair\" and Columns \"count\" and \"mean\" where the entries are the number of books with each class of ratings and the mean value of the price of the books within each rating class.\n",
    "\n",
    "8. Make a new column called \"python\" which has a one if the title of the book includes the word \"Python\" or \"python\" and a zero if it doesn't.\n",
    "\n",
    "9. Make a pivot table with rows the rating classes, columns the yes/no values for Python, and entries the average price within each class.\n",
    "\n"
   ]
  },
  {
   "cell_type": "code",
   "execution_count": 4,
   "metadata": {},
   "outputs": [],
   "source": [
    "import pandas as pd\n",
    "import numpy as np\n",
    "\n",
    "data = pd.read_csv(\"/Users/jeremy9959/Grad5100-Working/HW3/Amazon Books Data.csv\")"
   ]
  },
  {
   "cell_type": "code",
   "execution_count": 10,
   "metadata": {},
   "outputs": [
    {
     "data": {
      "text/plain": [
       "(541, 26)"
      ]
     },
     "execution_count": 10,
     "metadata": {},
     "output_type": "execute_result"
    }
   ],
   "source": []
  },
  {
   "cell_type": "code",
   "execution_count": 9,
   "metadata": {},
   "outputs": [
    {
     "data": {
      "text/plain": [
       "title            75\n",
       "description     154\n",
       "author           76\n",
       "isbn10          175\n",
       "isbn13           76\n",
       "publish_date     78\n",
       "edition          77\n",
       "best_seller      74\n",
       "top_rated        74\n",
       "rating           78\n",
       "review_count     78\n",
       "price            77\n",
       "Unnamed: 12     541\n",
       "Unnamed: 13     541\n",
       "Unnamed: 14     541\n",
       "Unnamed: 15     541\n",
       "Unnamed: 16     541\n",
       "Unnamed: 17     541\n",
       "Unnamed: 18     541\n",
       "Unnamed: 19     541\n",
       "Unnamed: 20     541\n",
       "Unnamed: 21     541\n",
       "Unnamed: 22     541\n",
       "Unnamed: 23     541\n",
       "Unnamed: 24     541\n",
       "Unnamed: 25     541\n",
       "dtype: int64"
      ]
     },
     "execution_count": 9,
     "metadata": {},
     "output_type": "execute_result"
    }
   ],
   "source": [
    "data.isna().sum()"
   ]
  },
  {
   "cell_type": "code",
   "execution_count": 14,
   "metadata": {},
   "outputs": [],
   "source": [
    "data = data[~data['title'].isna()]"
   ]
  },
  {
   "cell_type": "code",
   "execution_count": 15,
   "metadata": {},
   "outputs": [
    {
     "data": {
      "text/plain": [
       "Index(['title', 'description', 'author', 'isbn10', 'isbn13', 'publish_date',\n",
       "       'edition', 'best_seller', 'top_rated ', 'rating', 'review_count',\n",
       "       'price', 'Unnamed: 12', 'Unnamed: 13', 'Unnamed: 14', 'Unnamed: 15',\n",
       "       'Unnamed: 16', 'Unnamed: 17', 'Unnamed: 18', 'Unnamed: 19',\n",
       "       'Unnamed: 20', 'Unnamed: 21', 'Unnamed: 22', 'Unnamed: 23',\n",
       "       'Unnamed: 24', 'Unnamed: 25'],\n",
       "      dtype='object')"
      ]
     },
     "execution_count": 15,
     "metadata": {},
     "output_type": "execute_result"
    }
   ],
   "source": [
    "data.columns"
   ]
  },
  {
   "cell_type": "code",
   "execution_count": 19,
   "metadata": {},
   "outputs": [],
   "source": [
    "data = data[data.columns[0:12]]"
   ]
  },
  {
   "cell_type": "code",
   "execution_count": 31,
   "metadata": {},
   "outputs": [
    {
     "data": {
      "text/plain": [
       "<class 'str'>      464\n",
       "<class 'float'>      2\n",
       "Name: price, dtype: int64"
      ]
     },
     "execution_count": 31,
     "metadata": {},
     "output_type": "execute_result"
    }
   ],
   "source": []
  },
  {
   "cell_type": "code",
   "execution_count": 52,
   "metadata": {},
   "outputs": [],
   "source": [
    "data = data.assign(price = data['price'].map(lambda x: float(x[1:]) if isinstance(x,str)  else float(x)))"
   ]
  },
  {
   "cell_type": "code",
   "execution_count": 54,
   "metadata": {},
   "outputs": [
    {
     "data": {
      "text/html": [
       "<div>\n",
       "<style scoped>\n",
       "    .dataframe tbody tr th:only-of-type {\n",
       "        vertical-align: middle;\n",
       "    }\n",
       "\n",
       "    .dataframe tbody tr th {\n",
       "        vertical-align: top;\n",
       "    }\n",
       "\n",
       "    .dataframe thead th {\n",
       "        text-align: right;\n",
       "    }\n",
       "</style>\n",
       "<table border=\"1\" class=\"dataframe\">\n",
       "  <thead>\n",
       "    <tr style=\"text-align: right;\">\n",
       "      <th></th>\n",
       "      <th>title</th>\n",
       "      <th>description</th>\n",
       "      <th>author</th>\n",
       "      <th>isbn10</th>\n",
       "      <th>isbn13</th>\n",
       "      <th>publish_date</th>\n",
       "      <th>edition</th>\n",
       "      <th>best_seller</th>\n",
       "      <th>top_rated</th>\n",
       "      <th>rating</th>\n",
       "      <th>review_count</th>\n",
       "      <th>price</th>\n",
       "    </tr>\n",
       "  </thead>\n",
       "  <tbody>\n",
       "    <tr>\n",
       "      <th>0</th>\n",
       "      <td>The Staff Engineer's Path</td>\n",
       "      <td>A Guide for Individual Contributors Navigating...</td>\n",
       "      <td>Tanya Reilly</td>\n",
       "      <td>1098118731</td>\n",
       "      <td>978-1098118730</td>\n",
       "      <td>2022-10-25</td>\n",
       "      <td>1</td>\n",
       "      <td>Yes</td>\n",
       "      <td>No</td>\n",
       "      <td>4.7</td>\n",
       "      <td>189</td>\n",
       "      <td>31.99</td>\n",
       "    </tr>\n",
       "    <tr>\n",
       "      <th>1</th>\n",
       "      <td>Cracking the Coding Interview</td>\n",
       "      <td>189 Programming Questions and Solutions</td>\n",
       "      <td>Gayle Laakmann McDowell</td>\n",
       "      <td>984782869</td>\n",
       "      <td>978-0984782857</td>\n",
       "      <td>2015-07-01</td>\n",
       "      <td>6</td>\n",
       "      <td>Yes</td>\n",
       "      <td>No</td>\n",
       "      <td>4.7</td>\n",
       "      <td>8334</td>\n",
       "      <td>33.21</td>\n",
       "    </tr>\n",
       "    <tr>\n",
       "      <th>2</th>\n",
       "      <td>Python Crash Course, 3rd Edition</td>\n",
       "      <td>A Hands-On, Project-Based Introduction to Prog...</td>\n",
       "      <td>Eric Matthes</td>\n",
       "      <td>1718502702</td>\n",
       "      <td>978-1718502703</td>\n",
       "      <td>2023-01-10</td>\n",
       "      <td>3</td>\n",
       "      <td>Yes</td>\n",
       "      <td>No</td>\n",
       "      <td>4.8</td>\n",
       "      <td>165</td>\n",
       "      <td>30.61</td>\n",
       "    </tr>\n",
       "    <tr>\n",
       "      <th>3</th>\n",
       "      <td>The Pragmatic Programmer</td>\n",
       "      <td>20th Anniversary Edition, 2nd Edition: Your Jo...</td>\n",
       "      <td>David Thomas</td>\n",
       "      <td>NaN</td>\n",
       "      <td>978-0135957059</td>\n",
       "      <td>2019-09-13</td>\n",
       "      <td>2</td>\n",
       "      <td>Yes</td>\n",
       "      <td>No</td>\n",
       "      <td>4.8</td>\n",
       "      <td>2521</td>\n",
       "      <td>38.00</td>\n",
       "    </tr>\n",
       "    <tr>\n",
       "      <th>4</th>\n",
       "      <td>Clean Code</td>\n",
       "      <td>A Handbook of Agile Software Craftsmanship</td>\n",
       "      <td>Robert C. Martin</td>\n",
       "      <td>NaN</td>\n",
       "      <td>978-0132350884</td>\n",
       "      <td>2008-08-01</td>\n",
       "      <td>1</td>\n",
       "      <td>Yes</td>\n",
       "      <td>No</td>\n",
       "      <td>4.7</td>\n",
       "      <td>5639</td>\n",
       "      <td>40.00</td>\n",
       "    </tr>\n",
       "    <tr>\n",
       "      <th>...</th>\n",
       "      <td>...</td>\n",
       "      <td>...</td>\n",
       "      <td>...</td>\n",
       "      <td>...</td>\n",
       "      <td>...</td>\n",
       "      <td>...</td>\n",
       "      <td>...</td>\n",
       "      <td>...</td>\n",
       "      <td>...</td>\n",
       "      <td>...</td>\n",
       "      <td>...</td>\n",
       "      <td>...</td>\n",
       "    </tr>\n",
       "    <tr>\n",
       "      <th>462</th>\n",
       "      <td>Programming</td>\n",
       "      <td>4 Manuscripts in 1 book: Python For Beginners,...</td>\n",
       "      <td>Timothy C. Needham</td>\n",
       "      <td>1728914671</td>\n",
       "      <td>978-1728914671</td>\n",
       "      <td>17-Oct-18</td>\n",
       "      <td>1</td>\n",
       "      <td>No</td>\n",
       "      <td>No</td>\n",
       "      <td>4.4</td>\n",
       "      <td>2167</td>\n",
       "      <td>27.97</td>\n",
       "    </tr>\n",
       "    <tr>\n",
       "      <th>463</th>\n",
       "      <td>Transitioning to Java</td>\n",
       "      <td>Kickstart your polyglot programming journey by...</td>\n",
       "      <td>Ken Fogel</td>\n",
       "      <td>1804614017</td>\n",
       "      <td>978-1804614013</td>\n",
       "      <td>28-Apr-23</td>\n",
       "      <td>1</td>\n",
       "      <td>No</td>\n",
       "      <td>No</td>\n",
       "      <td>4.5</td>\n",
       "      <td>2</td>\n",
       "      <td>44.99</td>\n",
       "    </tr>\n",
       "    <tr>\n",
       "      <th>464</th>\n",
       "      <td>Java</td>\n",
       "      <td>The Ultimate Beginner's Guide to Learn Java Qu...</td>\n",
       "      <td>Mark Reed</td>\n",
       "      <td>NaN</td>\n",
       "      <td>979-8387893131</td>\n",
       "      <td>21-Mar-23</td>\n",
       "      <td>1</td>\n",
       "      <td>No</td>\n",
       "      <td>No</td>\n",
       "      <td>5</td>\n",
       "      <td>162</td>\n",
       "      <td>24.99</td>\n",
       "    </tr>\n",
       "    <tr>\n",
       "      <th>465</th>\n",
       "      <td>Learn Java 17 Programming</td>\n",
       "      <td>Learn the fundamentals of Java Programming wit...</td>\n",
       "      <td>Nick Samoylov</td>\n",
       "      <td>1803241438</td>\n",
       "      <td>978-1803241432</td>\n",
       "      <td>29-Jul-22</td>\n",
       "      <td>2</td>\n",
       "      <td>No</td>\n",
       "      <td>No</td>\n",
       "      <td>4.3</td>\n",
       "      <td>17</td>\n",
       "      <td>39.99</td>\n",
       "    </tr>\n",
       "    <tr>\n",
       "      <th>466</th>\n",
       "      <td>Learning Spring Boot 3.0</td>\n",
       "      <td>Simplify the development of production-grade a...</td>\n",
       "      <td>Greg L. Turnquist</td>\n",
       "      <td>1803233303</td>\n",
       "      <td>978-1803233307</td>\n",
       "      <td>30-Dec-22</td>\n",
       "      <td>3</td>\n",
       "      <td>No</td>\n",
       "      <td>No</td>\n",
       "      <td>4.4</td>\n",
       "      <td>18</td>\n",
       "      <td>37.49</td>\n",
       "    </tr>\n",
       "  </tbody>\n",
       "</table>\n",
       "<p>466 rows × 12 columns</p>\n",
       "</div>"
      ],
      "text/plain": [
       "                                title  \\\n",
       "0           The Staff Engineer's Path   \n",
       "1       Cracking the Coding Interview   \n",
       "2    Python Crash Course, 3rd Edition   \n",
       "3            The Pragmatic Programmer   \n",
       "4                          Clean Code   \n",
       "..                                ...   \n",
       "462                       Programming   \n",
       "463             Transitioning to Java   \n",
       "464                              Java   \n",
       "465         Learn Java 17 Programming   \n",
       "466          Learning Spring Boot 3.0   \n",
       "\n",
       "                                           description  \\\n",
       "0    A Guide for Individual Contributors Navigating...   \n",
       "1              189 Programming Questions and Solutions   \n",
       "2    A Hands-On, Project-Based Introduction to Prog...   \n",
       "3    20th Anniversary Edition, 2nd Edition: Your Jo...   \n",
       "4           A Handbook of Agile Software Craftsmanship   \n",
       "..                                                 ...   \n",
       "462  4 Manuscripts in 1 book: Python For Beginners,...   \n",
       "463  Kickstart your polyglot programming journey by...   \n",
       "464  The Ultimate Beginner's Guide to Learn Java Qu...   \n",
       "465  Learn the fundamentals of Java Programming wit...   \n",
       "466  Simplify the development of production-grade a...   \n",
       "\n",
       "                      author      isbn10          isbn13 publish_date edition  \\\n",
       "0               Tanya Reilly  1098118731  978-1098118730   2022-10-25       1   \n",
       "1    Gayle Laakmann McDowell   984782869  978-0984782857   2015-07-01       6   \n",
       "2               Eric Matthes  1718502702  978-1718502703   2023-01-10       3   \n",
       "3               David Thomas         NaN  978-0135957059   2019-09-13       2   \n",
       "4           Robert C. Martin         NaN  978-0132350884   2008-08-01       1   \n",
       "..                       ...         ...             ...          ...     ...   \n",
       "462       Timothy C. Needham  1728914671  978-1728914671    17-Oct-18       1   \n",
       "463                Ken Fogel  1804614017  978-1804614013    28-Apr-23       1   \n",
       "464                Mark Reed         NaN  979-8387893131    21-Mar-23       1   \n",
       "465            Nick Samoylov  1803241438  978-1803241432    29-Jul-22       2   \n",
       "466        Greg L. Turnquist  1803233303  978-1803233307    30-Dec-22       3   \n",
       "\n",
       "    best_seller top_rated  rating review_count  price  \n",
       "0           Yes         No    4.7          189  31.99  \n",
       "1           Yes         No    4.7         8334  33.21  \n",
       "2           Yes         No    4.8          165  30.61  \n",
       "3           Yes         No    4.8         2521  38.00  \n",
       "4           Yes         No    4.7         5639  40.00  \n",
       "..          ...        ...    ...          ...    ...  \n",
       "462          No         No    4.4         2167  27.97  \n",
       "463          No         No    4.5            2  44.99  \n",
       "464          No         No      5          162  24.99  \n",
       "465          No         No    4.3           17  39.99  \n",
       "466          No         No    4.4           18  37.49  \n",
       "\n",
       "[466 rows x 12 columns]"
      ]
     },
     "execution_count": 54,
     "metadata": {},
     "output_type": "execute_result"
    }
   ],
   "source": [
    "data"
   ]
  },
  {
   "cell_type": "code",
   "execution_count": 55,
   "metadata": {},
   "outputs": [
    {
     "data": {
      "text/plain": [
       "0      31.99\n",
       "1      33.21\n",
       "2      30.61\n",
       "3      38.00\n",
       "4      40.00\n",
       "       ...  \n",
       "462    27.97\n",
       "463    44.99\n",
       "464    24.99\n",
       "465    39.99\n",
       "466    37.49\n",
       "Name: price, Length: 466, dtype: float64"
      ]
     },
     "execution_count": 55,
     "metadata": {},
     "output_type": "execute_result"
    }
   ],
   "source": [
    "data['price']"
   ]
  },
  {
   "cell_type": "code",
   "execution_count": 68,
   "metadata": {},
   "outputs": [],
   "source": [
    "authors = data['author'].value_counts()"
   ]
  },
  {
   "cell_type": "code",
   "execution_count": 81,
   "metadata": {},
   "outputs": [
    {
     "data": {
      "text/plain": [
       "422    NaN\n",
       "Name: author, dtype: object"
      ]
     },
     "execution_count": 81,
     "metadata": {},
     "output_type": "execute_result"
    }
   ],
   "source": [
    "data['author'][data['author'].map(lambda x: not isinstance(x,str))]"
   ]
  },
  {
   "cell_type": "code",
   "execution_count": 82,
   "metadata": {},
   "outputs": [
    {
     "data": {
      "text/plain": [
       "title             0\n",
       "description      79\n",
       "author            1\n",
       "isbn10          100\n",
       "isbn13            1\n",
       "publish_date      3\n",
       "edition           3\n",
       "best_seller       0\n",
       "top_rated         0\n",
       "rating            3\n",
       "review_count      3\n",
       "price             2\n",
       "dtype: int64"
      ]
     },
     "execution_count": 82,
     "metadata": {},
     "output_type": "execute_result"
    }
   ],
   "source": [
    "data.isna().sum()"
   ]
  },
  {
   "cell_type": "code",
   "execution_count": 84,
   "metadata": {},
   "outputs": [
    {
     "data": {
      "text/html": [
       "<div>\n",
       "<style scoped>\n",
       "    .dataframe tbody tr th:only-of-type {\n",
       "        vertical-align: middle;\n",
       "    }\n",
       "\n",
       "    .dataframe tbody tr th {\n",
       "        vertical-align: top;\n",
       "    }\n",
       "\n",
       "    .dataframe thead th {\n",
       "        text-align: right;\n",
       "    }\n",
       "</style>\n",
       "<table border=\"1\" class=\"dataframe\">\n",
       "  <thead>\n",
       "    <tr style=\"text-align: right;\">\n",
       "      <th></th>\n",
       "      <th>title</th>\n",
       "      <th>description</th>\n",
       "      <th>author</th>\n",
       "      <th>isbn10</th>\n",
       "      <th>isbn13</th>\n",
       "      <th>publish_date</th>\n",
       "      <th>edition</th>\n",
       "      <th>best_seller</th>\n",
       "      <th>top_rated</th>\n",
       "      <th>rating</th>\n",
       "      <th>review_count</th>\n",
       "      <th>price</th>\n",
       "    </tr>\n",
       "  </thead>\n",
       "  <tbody>\n",
       "    <tr>\n",
       "      <th>422</th>\n",
       "      <td>Princeton Review AP Computer Science Principle...</td>\n",
       "      <td>3 Practice Tests + Complete Content Review + S...</td>\n",
       "      <td>NaN</td>\n",
       "      <td>593450736</td>\n",
       "      <td>978-0593450734</td>\n",
       "      <td>2022-08-02</td>\n",
       "      <td>1</td>\n",
       "      <td>YES</td>\n",
       "      <td>NO</td>\n",
       "      <td>4.4</td>\n",
       "      <td>36</td>\n",
       "      <td>15.99</td>\n",
       "    </tr>\n",
       "  </tbody>\n",
       "</table>\n",
       "</div>"
      ],
      "text/plain": [
       "                                                 title  \\\n",
       "422  Princeton Review AP Computer Science Principle...   \n",
       "\n",
       "                                           description author     isbn10  \\\n",
       "422  3 Practice Tests + Complete Content Review + S...    NaN  593450736   \n",
       "\n",
       "             isbn13 publish_date edition best_seller top_rated  rating  \\\n",
       "422  978-0593450734   2022-08-02       1         YES         NO    4.4   \n",
       "\n",
       "    review_count  price  \n",
       "422           36  15.99  "
      ]
     },
     "execution_count": 84,
     "metadata": {},
     "output_type": "execute_result"
    }
   ],
   "source": [
    "data[data['author'].isna()]"
   ]
  },
  {
   "cell_type": "code",
   "execution_count": 86,
   "metadata": {},
   "outputs": [
    {
     "ename": "KeyError",
     "evalue": "'reviews'",
     "output_type": "error",
     "traceback": [
      "\u001b[0;31m---------------------------------------------------------------------------\u001b[0m",
      "\u001b[0;31mKeyError\u001b[0m                                  Traceback (most recent call last)",
      "File \u001b[0;32m~/anaconda3/lib/python3.11/site-packages/pandas/core/indexes/base.py:3802\u001b[0m, in \u001b[0;36mIndex.get_loc\u001b[0;34m(self, key, method, tolerance)\u001b[0m\n\u001b[1;32m   3801\u001b[0m \u001b[39mtry\u001b[39;00m:\n\u001b[0;32m-> 3802\u001b[0m     \u001b[39mreturn\u001b[39;00m \u001b[39mself\u001b[39m\u001b[39m.\u001b[39m_engine\u001b[39m.\u001b[39mget_loc(casted_key)\n\u001b[1;32m   3803\u001b[0m \u001b[39mexcept\u001b[39;00m \u001b[39mKeyError\u001b[39;00m \u001b[39mas\u001b[39;00m err:\n",
      "File \u001b[0;32m~/anaconda3/lib/python3.11/site-packages/pandas/_libs/index.pyx:138\u001b[0m, in \u001b[0;36mpandas._libs.index.IndexEngine.get_loc\u001b[0;34m()\u001b[0m\n",
      "File \u001b[0;32m~/anaconda3/lib/python3.11/site-packages/pandas/_libs/index.pyx:165\u001b[0m, in \u001b[0;36mpandas._libs.index.IndexEngine.get_loc\u001b[0;34m()\u001b[0m\n",
      "File \u001b[0;32mpandas/_libs/hashtable_class_helper.pxi:5745\u001b[0m, in \u001b[0;36mpandas._libs.hashtable.PyObjectHashTable.get_item\u001b[0;34m()\u001b[0m\n",
      "File \u001b[0;32mpandas/_libs/hashtable_class_helper.pxi:5753\u001b[0m, in \u001b[0;36mpandas._libs.hashtable.PyObjectHashTable.get_item\u001b[0;34m()\u001b[0m\n",
      "\u001b[0;31mKeyError\u001b[0m: 'reviews'",
      "\nThe above exception was the direct cause of the following exception:\n",
      "\u001b[0;31mKeyError\u001b[0m                                  Traceback (most recent call last)",
      "\u001b[1;32m/Users/jeremy9959/Grad5100-Working/HW3/HW3.ipynb Cell 16\u001b[0m line \u001b[0;36m1\n\u001b[0;32m----> <a href='vscode-notebook-cell:/Users/jeremy9959/Grad5100-Working/HW3/HW3.ipynb#X24sZmlsZQ%3D%3D?line=0'>1</a>\u001b[0m data[\u001b[39m'\u001b[39m\u001b[39mreviews\u001b[39m\u001b[39m'\u001b[39m]\u001b[39m.\u001b[39mvalue_counts()\n",
      "File \u001b[0;32m~/anaconda3/lib/python3.11/site-packages/pandas/core/frame.py:3807\u001b[0m, in \u001b[0;36mDataFrame.__getitem__\u001b[0;34m(self, key)\u001b[0m\n\u001b[1;32m   3805\u001b[0m \u001b[39mif\u001b[39;00m \u001b[39mself\u001b[39m\u001b[39m.\u001b[39mcolumns\u001b[39m.\u001b[39mnlevels \u001b[39m>\u001b[39m \u001b[39m1\u001b[39m:\n\u001b[1;32m   3806\u001b[0m     \u001b[39mreturn\u001b[39;00m \u001b[39mself\u001b[39m\u001b[39m.\u001b[39m_getitem_multilevel(key)\n\u001b[0;32m-> 3807\u001b[0m indexer \u001b[39m=\u001b[39m \u001b[39mself\u001b[39m\u001b[39m.\u001b[39mcolumns\u001b[39m.\u001b[39mget_loc(key)\n\u001b[1;32m   3808\u001b[0m \u001b[39mif\u001b[39;00m is_integer(indexer):\n\u001b[1;32m   3809\u001b[0m     indexer \u001b[39m=\u001b[39m [indexer]\n",
      "File \u001b[0;32m~/anaconda3/lib/python3.11/site-packages/pandas/core/indexes/base.py:3804\u001b[0m, in \u001b[0;36mIndex.get_loc\u001b[0;34m(self, key, method, tolerance)\u001b[0m\n\u001b[1;32m   3802\u001b[0m     \u001b[39mreturn\u001b[39;00m \u001b[39mself\u001b[39m\u001b[39m.\u001b[39m_engine\u001b[39m.\u001b[39mget_loc(casted_key)\n\u001b[1;32m   3803\u001b[0m \u001b[39mexcept\u001b[39;00m \u001b[39mKeyError\u001b[39;00m \u001b[39mas\u001b[39;00m err:\n\u001b[0;32m-> 3804\u001b[0m     \u001b[39mraise\u001b[39;00m \u001b[39mKeyError\u001b[39;00m(key) \u001b[39mfrom\u001b[39;00m \u001b[39merr\u001b[39;00m\n\u001b[1;32m   3805\u001b[0m \u001b[39mexcept\u001b[39;00m \u001b[39mTypeError\u001b[39;00m:\n\u001b[1;32m   3806\u001b[0m     \u001b[39m# If we have a listlike key, _check_indexing_error will raise\u001b[39;00m\n\u001b[1;32m   3807\u001b[0m     \u001b[39m#  InvalidIndexError. Otherwise we fall through and re-raise\u001b[39;00m\n\u001b[1;32m   3808\u001b[0m     \u001b[39m#  the TypeError.\u001b[39;00m\n\u001b[1;32m   3809\u001b[0m     \u001b[39mself\u001b[39m\u001b[39m.\u001b[39m_check_indexing_error(key)\n",
      "\u001b[0;31mKeyError\u001b[0m: 'reviews'"
     ]
    }
   ],
   "source": [
    "data['reviews'].value_counts()"
   ]
  },
  {
   "cell_type": "code",
   "execution_count": 89,
   "metadata": {},
   "outputs": [
    {
     "data": {
      "text/plain": [
       "3"
      ]
     },
     "execution_count": 89,
     "metadata": {},
     "output_type": "execute_result"
    }
   ],
   "source": [
    "data['rating'].isna().sum()"
   ]
  },
  {
   "cell_type": "code",
   "execution_count": 91,
   "metadata": {},
   "outputs": [],
   "source": [
    "data = data[~data['rating'].isna()]"
   ]
  },
  {
   "cell_type": "code",
   "execution_count": 93,
   "metadata": {},
   "outputs": [
    {
     "data": {
      "text/plain": [
       "4.7       98\n",
       "4.6       77\n",
       "4.5       60\n",
       "4.4       52\n",
       "4.8       46\n",
       "4.3       31\n",
       "5         29\n",
       "4.9       22\n",
       "4.2       10\n",
       "4.1        8\n",
       "0          7\n",
       "3.9        6\n",
       "3.8        4\n",
       "4          3\n",
       "3.6        3\n",
       "3.4        1\n",
       "3.3        1\n",
       "$4.70      1\n",
       "$4.40      1\n",
       "3.5        1\n",
       "3.7        1\n",
       "3.1        1\n",
       "Name: rating, dtype: int64"
      ]
     },
     "execution_count": 93,
     "metadata": {},
     "output_type": "execute_result"
    }
   ],
   "source": [
    "data['rating'].value_counts()"
   ]
  },
  {
   "cell_type": "code",
   "execution_count": 96,
   "metadata": {},
   "outputs": [
    {
     "ename": "ValueError",
     "evalue": "could not convert string to float: '$4.70 '",
     "output_type": "error",
     "traceback": [
      "\u001b[0;31m---------------------------------------------------------------------------\u001b[0m",
      "\u001b[0;31mValueError\u001b[0m                                Traceback (most recent call last)",
      "\u001b[1;32m/Users/jeremy9959/Grad5100-Working/HW3/HW3.ipynb Cell 20\u001b[0m line \u001b[0;36m1\n\u001b[0;32m----> <a href='vscode-notebook-cell:/Users/jeremy9959/Grad5100-Working/HW3/HW3.ipynb#X31sZmlsZQ%3D%3D?line=0'>1</a>\u001b[0m data[\u001b[39m'\u001b[39m\u001b[39mrating\u001b[39m\u001b[39m'\u001b[39m]\u001b[39m.\u001b[39mapply(\u001b[39mlambda\u001b[39;00m x: \u001b[39mfloat\u001b[39m(x))\n",
      "File \u001b[0;32m~/anaconda3/lib/python3.11/site-packages/pandas/core/series.py:4771\u001b[0m, in \u001b[0;36mSeries.apply\u001b[0;34m(self, func, convert_dtype, args, **kwargs)\u001b[0m\n\u001b[1;32m   4661\u001b[0m \u001b[39mdef\u001b[39;00m \u001b[39mapply\u001b[39m(\n\u001b[1;32m   4662\u001b[0m     \u001b[39mself\u001b[39m,\n\u001b[1;32m   4663\u001b[0m     func: AggFuncType,\n\u001b[0;32m   (...)\u001b[0m\n\u001b[1;32m   4666\u001b[0m     \u001b[39m*\u001b[39m\u001b[39m*\u001b[39mkwargs,\n\u001b[1;32m   4667\u001b[0m ) \u001b[39m-\u001b[39m\u001b[39m>\u001b[39m DataFrame \u001b[39m|\u001b[39m Series:\n\u001b[1;32m   4668\u001b[0m \u001b[39m    \u001b[39m\u001b[39m\"\"\"\u001b[39;00m\n\u001b[1;32m   4669\u001b[0m \u001b[39m    Invoke function on values of Series.\u001b[39;00m\n\u001b[1;32m   4670\u001b[0m \n\u001b[0;32m   (...)\u001b[0m\n\u001b[1;32m   4769\u001b[0m \u001b[39m    dtype: float64\u001b[39;00m\n\u001b[1;32m   4770\u001b[0m \u001b[39m    \"\"\"\u001b[39;00m\n\u001b[0;32m-> 4771\u001b[0m     \u001b[39mreturn\u001b[39;00m SeriesApply(\u001b[39mself\u001b[39m, func, convert_dtype, args, kwargs)\u001b[39m.\u001b[39mapply()\n",
      "File \u001b[0;32m~/anaconda3/lib/python3.11/site-packages/pandas/core/apply.py:1123\u001b[0m, in \u001b[0;36mSeriesApply.apply\u001b[0;34m(self)\u001b[0m\n\u001b[1;32m   1120\u001b[0m     \u001b[39mreturn\u001b[39;00m \u001b[39mself\u001b[39m\u001b[39m.\u001b[39mapply_str()\n\u001b[1;32m   1122\u001b[0m \u001b[39m# self.f is Callable\u001b[39;00m\n\u001b[0;32m-> 1123\u001b[0m \u001b[39mreturn\u001b[39;00m \u001b[39mself\u001b[39m\u001b[39m.\u001b[39mapply_standard()\n",
      "File \u001b[0;32m~/anaconda3/lib/python3.11/site-packages/pandas/core/apply.py:1174\u001b[0m, in \u001b[0;36mSeriesApply.apply_standard\u001b[0;34m(self)\u001b[0m\n\u001b[1;32m   1172\u001b[0m     \u001b[39melse\u001b[39;00m:\n\u001b[1;32m   1173\u001b[0m         values \u001b[39m=\u001b[39m obj\u001b[39m.\u001b[39mastype(\u001b[39mobject\u001b[39m)\u001b[39m.\u001b[39m_values\n\u001b[0;32m-> 1174\u001b[0m         mapped \u001b[39m=\u001b[39m lib\u001b[39m.\u001b[39mmap_infer(\n\u001b[1;32m   1175\u001b[0m             values,\n\u001b[1;32m   1176\u001b[0m             f,\n\u001b[1;32m   1177\u001b[0m             convert\u001b[39m=\u001b[39m\u001b[39mself\u001b[39m\u001b[39m.\u001b[39mconvert_dtype,\n\u001b[1;32m   1178\u001b[0m         )\n\u001b[1;32m   1180\u001b[0m \u001b[39mif\u001b[39;00m \u001b[39mlen\u001b[39m(mapped) \u001b[39mand\u001b[39;00m \u001b[39misinstance\u001b[39m(mapped[\u001b[39m0\u001b[39m], ABCSeries):\n\u001b[1;32m   1181\u001b[0m     \u001b[39m# GH#43986 Need to do list(mapped) in order to get treated as nested\u001b[39;00m\n\u001b[1;32m   1182\u001b[0m     \u001b[39m#  See also GH#25959 regarding EA support\u001b[39;00m\n\u001b[1;32m   1183\u001b[0m     \u001b[39mreturn\u001b[39;00m obj\u001b[39m.\u001b[39m_constructor_expanddim(\u001b[39mlist\u001b[39m(mapped), index\u001b[39m=\u001b[39mobj\u001b[39m.\u001b[39mindex)\n",
      "File \u001b[0;32m~/anaconda3/lib/python3.11/site-packages/pandas/_libs/lib.pyx:2924\u001b[0m, in \u001b[0;36mpandas._libs.lib.map_infer\u001b[0;34m()\u001b[0m\n",
      "\u001b[1;32m/Users/jeremy9959/Grad5100-Working/HW3/HW3.ipynb Cell 20\u001b[0m line \u001b[0;36m1\n\u001b[0;32m----> <a href='vscode-notebook-cell:/Users/jeremy9959/Grad5100-Working/HW3/HW3.ipynb#X31sZmlsZQ%3D%3D?line=0'>1</a>\u001b[0m data[\u001b[39m'\u001b[39m\u001b[39mrating\u001b[39m\u001b[39m'\u001b[39m]\u001b[39m.\u001b[39mapply(\u001b[39mlambda\u001b[39;00m x: \u001b[39mfloat\u001b[39m(x))\n",
      "\u001b[0;31mValueError\u001b[0m: could not convert string to float: '$4.70 '"
     ]
    }
   ],
   "source": [
    "data['rating'].apply(lambda x: float(x))"
   ]
  },
  {
   "cell_type": "code",
   "execution_count": 98,
   "metadata": {},
   "outputs": [],
   "source": [
    "data = data.assign(rating=data['rating'].map(lambda x: float(x.replace('$',''))))"
   ]
  },
  {
   "cell_type": "code",
   "execution_count": 100,
   "metadata": {},
   "outputs": [
    {
     "data": {
      "text/plain": [
       "4.4984881209503245"
      ]
     },
     "execution_count": 100,
     "metadata": {},
     "output_type": "execute_result"
    }
   ],
   "source": [
    "data['rating'].mean()"
   ]
  },
  {
   "cell_type": "code",
   "execution_count": 106,
   "metadata": {},
   "outputs": [],
   "source": [
    "data=data.assign(quality = data['rating'].map(lambda x: \"Excellent\" if x>=4.5 else \"Good\" if x>=3.8 and x<4.5 else \"Fair\" if x<3.8 else \"\"))"
   ]
  },
  {
   "cell_type": "code",
   "execution_count": 128,
   "metadata": {},
   "outputs": [],
   "source": [
    "data = data.assign(python = data['title'].map(lambda x: 1 if \"Python\" in x or \"python\" in x else 0))"
   ]
  },
  {
   "cell_type": "code",
   "execution_count": 129,
   "metadata": {},
   "outputs": [
    {
     "data": {
      "text/plain": [
       "0      0\n",
       "1      0\n",
       "2      1\n",
       "3      0\n",
       "4      0\n",
       "      ..\n",
       "462    0\n",
       "463    0\n",
       "464    0\n",
       "465    0\n",
       "466    0\n",
       "Name: python, Length: 463, dtype: int64"
      ]
     },
     "execution_count": 129,
     "metadata": {},
     "output_type": "execute_result"
    }
   ],
   "source": [
    "data['python']"
   ]
  },
  {
   "cell_type": "code",
   "execution_count": 130,
   "metadata": {},
   "outputs": [],
   "source": [
    "by_quality = data.groupby(['quality','python'])['price'].agg(['count','mean'])"
   ]
  },
  {
   "cell_type": "code",
   "execution_count": 131,
   "metadata": {},
   "outputs": [
    {
     "data": {
      "text/html": [
       "<div>\n",
       "<style scoped>\n",
       "    .dataframe tbody tr th:only-of-type {\n",
       "        vertical-align: middle;\n",
       "    }\n",
       "\n",
       "    .dataframe tbody tr th {\n",
       "        vertical-align: top;\n",
       "    }\n",
       "\n",
       "    .dataframe thead th {\n",
       "        text-align: right;\n",
       "    }\n",
       "</style>\n",
       "<table border=\"1\" class=\"dataframe\">\n",
       "  <thead>\n",
       "    <tr style=\"text-align: right;\">\n",
       "      <th></th>\n",
       "      <th></th>\n",
       "      <th>count</th>\n",
       "      <th>mean</th>\n",
       "    </tr>\n",
       "    <tr>\n",
       "      <th>quality</th>\n",
       "      <th>python</th>\n",
       "      <th></th>\n",
       "      <th></th>\n",
       "    </tr>\n",
       "  </thead>\n",
       "  <tbody>\n",
       "    <tr>\n",
       "      <th rowspan=\"2\" valign=\"top\">Excellent</th>\n",
       "      <th>0</th>\n",
       "      <td>298</td>\n",
       "      <td>31.488591</td>\n",
       "    </tr>\n",
       "    <tr>\n",
       "      <th>1</th>\n",
       "      <td>35</td>\n",
       "      <td>30.882857</td>\n",
       "    </tr>\n",
       "    <tr>\n",
       "      <th rowspan=\"2\" valign=\"top\">Fair</th>\n",
       "      <th>0</th>\n",
       "      <td>13</td>\n",
       "      <td>30.259231</td>\n",
       "    </tr>\n",
       "    <tr>\n",
       "      <th>1</th>\n",
       "      <td>2</td>\n",
       "      <td>38.495000</td>\n",
       "    </tr>\n",
       "    <tr>\n",
       "      <th rowspan=\"2\" valign=\"top\">Good</th>\n",
       "      <th>0</th>\n",
       "      <td>106</td>\n",
       "      <td>34.801226</td>\n",
       "    </tr>\n",
       "    <tr>\n",
       "      <th>1</th>\n",
       "      <td>9</td>\n",
       "      <td>31.826667</td>\n",
       "    </tr>\n",
       "  </tbody>\n",
       "</table>\n",
       "</div>"
      ],
      "text/plain": [
       "                  count       mean\n",
       "quality   python                  \n",
       "Excellent 0         298  31.488591\n",
       "          1          35  30.882857\n",
       "Fair      0          13  30.259231\n",
       "          1           2  38.495000\n",
       "Good      0         106  34.801226\n",
       "          1           9  31.826667"
      ]
     },
     "execution_count": 131,
     "metadata": {},
     "output_type": "execute_result"
    }
   ],
   "source": [
    "by_quality"
   ]
  },
  {
   "cell_type": "code",
   "execution_count": 132,
   "metadata": {},
   "outputs": [
    {
     "data": {
      "text/html": [
       "<div>\n",
       "<style scoped>\n",
       "    .dataframe tbody tr th:only-of-type {\n",
       "        vertical-align: middle;\n",
       "    }\n",
       "\n",
       "    .dataframe tbody tr th {\n",
       "        vertical-align: top;\n",
       "    }\n",
       "\n",
       "    .dataframe thead th {\n",
       "        text-align: right;\n",
       "    }\n",
       "</style>\n",
       "<table border=\"1\" class=\"dataframe\">\n",
       "  <thead>\n",
       "    <tr style=\"text-align: right;\">\n",
       "      <th>python</th>\n",
       "      <th>0</th>\n",
       "      <th>1</th>\n",
       "    </tr>\n",
       "    <tr>\n",
       "      <th>quality</th>\n",
       "      <th></th>\n",
       "      <th></th>\n",
       "    </tr>\n",
       "  </thead>\n",
       "  <tbody>\n",
       "    <tr>\n",
       "      <th>Excellent</th>\n",
       "      <td>31.488591</td>\n",
       "      <td>30.882857</td>\n",
       "    </tr>\n",
       "    <tr>\n",
       "      <th>Fair</th>\n",
       "      <td>30.259231</td>\n",
       "      <td>38.495000</td>\n",
       "    </tr>\n",
       "    <tr>\n",
       "      <th>Good</th>\n",
       "      <td>34.801226</td>\n",
       "      <td>31.826667</td>\n",
       "    </tr>\n",
       "  </tbody>\n",
       "</table>\n",
       "</div>"
      ],
      "text/plain": [
       "python             0          1\n",
       "quality                        \n",
       "Excellent  31.488591  30.882857\n",
       "Fair       30.259231  38.495000\n",
       "Good       34.801226  31.826667"
      ]
     },
     "execution_count": 132,
     "metadata": {},
     "output_type": "execute_result"
    }
   ],
   "source": [
    "pd.pivot_table(by_quality, index='quality',columns='python',values='mean')"
   ]
  },
  {
   "cell_type": "code",
   "execution_count": 133,
   "metadata": {},
   "outputs": [
    {
     "data": {
      "text/plain": [
       "(463, 14)"
      ]
     },
     "execution_count": 133,
     "metadata": {},
     "output_type": "execute_result"
    }
   ],
   "source": [
    "data.shape"
   ]
  },
  {
   "cell_type": "code",
   "execution_count": null,
   "metadata": {},
   "outputs": [],
   "source": []
  }
 ],
 "metadata": {
  "kernelspec": {
   "display_name": "base",
   "language": "python",
   "name": "python3"
  },
  "language_info": {
   "codemirror_mode": {
    "name": "ipython",
    "version": 3
   },
   "file_extension": ".py",
   "mimetype": "text/x-python",
   "name": "python",
   "nbconvert_exporter": "python",
   "pygments_lexer": "ipython3",
   "version": "3.11.4"
  }
 },
 "nbformat": 4,
 "nbformat_minor": 2
}
